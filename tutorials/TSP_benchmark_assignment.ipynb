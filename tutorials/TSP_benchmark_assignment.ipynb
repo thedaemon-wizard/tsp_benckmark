{
  "cells": [
    {
      "cell_type": "markdown",
      "metadata": {
        "id": "qU4cpO0TN56s"
      },
      "source": [
        "# TSPベンチマークライブラリ チュートリアル\n",
        "\n",
        "## 目次\n",
        "1. [はじめに](#introduction)\n",
        "2. [巡回セールスマン問題（TSP）とは](#tsp-definition)\n",
        "3. [ライブラリの基本的な使い方](#basic-usage)\n",
        "4. [アルゴリズム詳細](#algorithms)\n",
        "   - [Simulated Annealing](#simulated-annealing)\n",
        "   - [QAOA (Quantum Approximate Optimization Algorithm)](#qaoa)\n",
        "   - [Held-Karp アルゴリズム](#held-karp)\n",
        "5. [解の評価指標](#solution-evaluation)\n",
        "6. [ベンチマーク機能](#benchmarking)\n",
        "7. [まとめ](#conclusion)\n",
        "8. [参考文献](#references)"
      ]
    },
    {
      "cell_type": "markdown",
      "metadata": {
        "id": "tkFvb95XN56u"
      },
      "source": [
        "## 1. はじめに <a name=\"introduction\"></a>\n",
        "\n",
        "このチュートリアルでは、巡回セールスマン問題（TSP）を解くためのベンチマークライブラリの使い方を説明します。\n",
        "\n",
        "本ライブラリは、古典的なアルゴリズムと量子インスパイアドアルゴリズム、そして量子アルゴリズムの性能を比較するために設計されています。\n",
        "\n",
        "### 対象読者\n",
        "- 量子最適化に興味がある方\n",
        "- アルゴリズムの基本的な知識はあるが、最適化問題の詳細には詳しくない方\n",
        "- 古典アルゴリズムと量子アルゴリズムの性能比較に興味がある方\n",
        "\n",
        "### 必要なライブラリのインストール"
      ]
    },
    {
      "cell_type": "code",
      "execution_count": 1,
      "metadata": {
        "colab": {
          "base_uri": "https://localhost:8080/",
          "height": 1000
        },
        "id": "bLnDF1RdN56v",
        "outputId": "5db6baaf-354d-4773-a8e9-e8cb28dd4a5c"
      },
      "outputs": [
        {
          "output_type": "stream",
          "name": "stdout",
          "text": [
            "Requirement already satisfied: numpy in /usr/local/lib/python3.11/dist-packages (2.0.2)\n",
            "Requirement already satisfied: matplotlib in /usr/local/lib/python3.11/dist-packages (3.10.0)\n",
            "Requirement already satisfied: scipy in /usr/local/lib/python3.11/dist-packages (1.15.3)\n",
            "Requirement already satisfied: scikit-learn in /usr/local/lib/python3.11/dist-packages (1.6.1)\n",
            "Requirement already satisfied: pandas in /usr/local/lib/python3.11/dist-packages (2.2.2)\n",
            "Collecting xlsxwriter\n",
            "  Downloading xlsxwriter-3.2.5-py3-none-any.whl.metadata (2.7 kB)\n",
            "Requirement already satisfied: contourpy>=1.0.1 in /usr/local/lib/python3.11/dist-packages (from matplotlib) (1.3.2)\n",
            "Requirement already satisfied: cycler>=0.10 in /usr/local/lib/python3.11/dist-packages (from matplotlib) (0.12.1)\n",
            "Requirement already satisfied: fonttools>=4.22.0 in /usr/local/lib/python3.11/dist-packages (from matplotlib) (4.58.5)\n",
            "Requirement already satisfied: kiwisolver>=1.3.1 in /usr/local/lib/python3.11/dist-packages (from matplotlib) (1.4.8)\n",
            "Requirement already satisfied: packaging>=20.0 in /usr/local/lib/python3.11/dist-packages (from matplotlib) (24.2)\n",
            "Requirement already satisfied: pillow>=8 in /usr/local/lib/python3.11/dist-packages (from matplotlib) (11.2.1)\n",
            "Requirement already satisfied: pyparsing>=2.3.1 in /usr/local/lib/python3.11/dist-packages (from matplotlib) (3.2.3)\n",
            "Requirement already satisfied: python-dateutil>=2.7 in /usr/local/lib/python3.11/dist-packages (from matplotlib) (2.9.0.post0)\n",
            "Requirement already satisfied: joblib>=1.2.0 in /usr/local/lib/python3.11/dist-packages (from scikit-learn) (1.5.1)\n",
            "Requirement already satisfied: threadpoolctl>=3.1.0 in /usr/local/lib/python3.11/dist-packages (from scikit-learn) (3.6.0)\n",
            "Requirement already satisfied: pytz>=2020.1 in /usr/local/lib/python3.11/dist-packages (from pandas) (2025.2)\n",
            "Requirement already satisfied: tzdata>=2022.7 in /usr/local/lib/python3.11/dist-packages (from pandas) (2025.2)\n",
            "Requirement already satisfied: six>=1.5 in /usr/local/lib/python3.11/dist-packages (from python-dateutil>=2.7->matplotlib) (1.17.0)\n",
            "Downloading xlsxwriter-3.2.5-py3-none-any.whl (172 kB)\n",
            "\u001b[2K   \u001b[90m━━━━━━━━━━━━━━━━━━━━━━━━━━━━━━━━━━━━━━━━\u001b[0m \u001b[32m172.3/172.3 kB\u001b[0m \u001b[31m8.4 MB/s\u001b[0m eta \u001b[36m0:00:00\u001b[0m\n",
            "\u001b[?25hInstalling collected packages: xlsxwriter\n",
            "Successfully installed xlsxwriter-3.2.5\n",
            "Collecting openjij\n",
            "  Downloading openjij-0.10.7-cp311-cp311-manylinux_2_27_x86_64.manylinux_2_28_x86_64.whl.metadata (11 kB)\n",
            "Collecting jijmodeling\n",
            "  Downloading jijmodeling-1.13.0-cp38-abi3-manylinux_2_28_x86_64.whl.metadata (2.5 kB)\n",
            "Collecting ommx-openjij-adapter==1.9.5\n",
            "  Downloading ommx_openjij_adapter-1.9.5.tar.gz (4.1 kB)\n",
            "  Installing build dependencies ... \u001b[?25l\u001b[?25hdone\n",
            "  Getting requirements to build wheel ... \u001b[?25l\u001b[?25hdone\n",
            "  Preparing metadata (pyproject.toml) ... \u001b[?25l\u001b[?25hdone\n",
            "Collecting ommx<2.0.0,>=1.9.0rc1 (from ommx-openjij-adapter==1.9.5)\n",
            "  Downloading ommx-1.9.5-cp38-abi3-manylinux_2_28_x86_64.whl.metadata (6.3 kB)\n",
            "Requirement already satisfied: numpy<2.4.0,>=1.17.3 in /usr/local/lib/python3.11/dist-packages (from openjij) (2.0.2)\n",
            "Collecting dimod<0.13.0 (from openjij)\n",
            "  Downloading dimod-0.12.20-cp311-cp311-manylinux_2_17_x86_64.manylinux2014_x86_64.whl.metadata (4.0 kB)\n",
            "Collecting scipy<1.12.0,>=1.7.3 (from openjij)\n",
            "  Downloading scipy-1.11.4-cp311-cp311-manylinux_2_17_x86_64.manylinux2014_x86_64.whl.metadata (60 kB)\n",
            "\u001b[2K     \u001b[90m━━━━━━━━━━━━━━━━━━━━━━━━━━━━━━━━━━━━━━━━\u001b[0m \u001b[32m60.4/60.4 kB\u001b[0m \u001b[31m5.2 MB/s\u001b[0m eta \u001b[36m0:00:00\u001b[0m\n",
            "\u001b[?25hCollecting requests<2.32.0,>=2.28.0 (from openjij)\n",
            "  Downloading requests-2.31.0-py3-none-any.whl.metadata (4.6 kB)\n",
            "Collecting jij-cimod<1.7.0,>=1.6.0 (from openjij)\n",
            "  Downloading jij_cimod-1.6.2-cp311-cp311-manylinux_2_28_x86_64.whl.metadata (10 kB)\n",
            "Requirement already satisfied: typing-extensions>=4.2.0 in /usr/local/lib/python3.11/dist-packages (from openjij) (4.14.1)\n",
            "Requirement already satisfied: pandas in /usr/local/lib/python3.11/dist-packages (from jijmodeling) (2.2.2)\n",
            "Requirement already satisfied: orjson<4.0.0,>=3.8.0 in /usr/local/lib/python3.11/dist-packages (from jijmodeling) (3.10.18)\n",
            "INFO: pip is looking at multiple versions of jijmodeling to determine which version is compatible with other requirements. This could take a while.\n",
            "Collecting jijmodeling\n",
            "  Downloading jijmodeling-1.12.4-cp38-abi3-manylinux_2_28_x86_64.whl.metadata (2.5 kB)\n",
            "Collecting numpy<2.4.0,>=1.17.3 (from openjij)\n",
            "  Downloading numpy-1.26.4-cp311-cp311-manylinux_2_17_x86_64.manylinux2014_x86_64.whl.metadata (61 kB)\n",
            "\u001b[2K     \u001b[90m━━━━━━━━━━━━━━━━━━━━━━━━━━━━━━━━━━━━━━━━\u001b[0m \u001b[32m61.0/61.0 kB\u001b[0m \u001b[31m5.3 MB/s\u001b[0m eta \u001b[36m0:00:00\u001b[0m\n",
            "\u001b[?25hRequirement already satisfied: protobuf<6.0.0,>=5.26.1 in /usr/local/lib/python3.11/dist-packages (from ommx<2.0.0,>=1.9.0rc1->ommx-openjij-adapter==1.9.5) (5.29.5)\n",
            "Requirement already satisfied: pyarrow<20.0.0,>=16.0.0 in /usr/local/lib/python3.11/dist-packages (from ommx<2.0.0,>=1.9.0rc1->ommx-openjij-adapter==1.9.5) (18.1.0)\n",
            "Requirement already satisfied: python-dateutil<3.0.0,>=2.9.0 in /usr/local/lib/python3.11/dist-packages (from ommx<2.0.0,>=1.9.0rc1->ommx-openjij-adapter==1.9.5) (2.9.0.post0)\n",
            "Requirement already satisfied: pytz>=2020.1 in /usr/local/lib/python3.11/dist-packages (from pandas->jijmodeling) (2025.2)\n",
            "Requirement already satisfied: tzdata>=2022.7 in /usr/local/lib/python3.11/dist-packages (from pandas->jijmodeling) (2025.2)\n",
            "Requirement already satisfied: charset-normalizer<4,>=2 in /usr/local/lib/python3.11/dist-packages (from requests<2.32.0,>=2.28.0->openjij) (3.4.2)\n",
            "Requirement already satisfied: idna<4,>=2.5 in /usr/local/lib/python3.11/dist-packages (from requests<2.32.0,>=2.28.0->openjij) (3.10)\n",
            "Requirement already satisfied: urllib3<3,>=1.21.1 in /usr/local/lib/python3.11/dist-packages (from requests<2.32.0,>=2.28.0->openjij) (2.4.0)\n",
            "Requirement already satisfied: certifi>=2017.4.17 in /usr/local/lib/python3.11/dist-packages (from requests<2.32.0,>=2.28.0->openjij) (2025.7.9)\n",
            "Requirement already satisfied: six>=1.5 in /usr/local/lib/python3.11/dist-packages (from python-dateutil<3.0.0,>=2.9.0->ommx<2.0.0,>=1.9.0rc1->ommx-openjij-adapter==1.9.5) (1.17.0)\n",
            "Downloading openjij-0.10.7-cp311-cp311-manylinux_2_27_x86_64.manylinux_2_28_x86_64.whl (11.9 MB)\n",
            "\u001b[2K   \u001b[90m━━━━━━━━━━━━━━━━━━━━━━━━━━━━━━━━━━━━━━━━\u001b[0m \u001b[32m11.9/11.9 MB\u001b[0m \u001b[31m95.6 MB/s\u001b[0m eta \u001b[36m0:00:00\u001b[0m\n",
            "\u001b[?25hDownloading jijmodeling-1.12.4-cp38-abi3-manylinux_2_28_x86_64.whl (3.7 MB)\n",
            "\u001b[2K   \u001b[90m━━━━━━━━━━━━━━━━━━━━━━━━━━━━━━━━━━━━━━━━\u001b[0m \u001b[32m3.7/3.7 MB\u001b[0m \u001b[31m94.2 MB/s\u001b[0m eta \u001b[36m0:00:00\u001b[0m\n",
            "\u001b[?25hDownloading dimod-0.12.20-cp311-cp311-manylinux_2_17_x86_64.manylinux2014_x86_64.whl (9.1 MB)\n",
            "\u001b[2K   \u001b[90m━━━━━━━━━━━━━━━━━━━━━━━━━━━━━━━━━━━━━━━━\u001b[0m \u001b[32m9.1/9.1 MB\u001b[0m \u001b[31m95.2 MB/s\u001b[0m eta \u001b[36m0:00:00\u001b[0m\n",
            "\u001b[?25hDownloading jij_cimod-1.6.2-cp311-cp311-manylinux_2_28_x86_64.whl (11.6 MB)\n",
            "\u001b[2K   \u001b[90m━━━━━━━━━━━━━━━━━━━━━━━━━━━━━━━━━━━━━━━━\u001b[0m \u001b[32m11.6/11.6 MB\u001b[0m \u001b[31m104.0 MB/s\u001b[0m eta \u001b[36m0:00:00\u001b[0m\n",
            "\u001b[?25hDownloading numpy-1.26.4-cp311-cp311-manylinux_2_17_x86_64.manylinux2014_x86_64.whl (18.3 MB)\n",
            "\u001b[2K   \u001b[90m━━━━━━━━━━━━━━━━━━━━━━━━━━━━━━━━━━━━━━━━\u001b[0m \u001b[32m18.3/18.3 MB\u001b[0m \u001b[31m107.1 MB/s\u001b[0m eta \u001b[36m0:00:00\u001b[0m\n",
            "\u001b[?25hDownloading ommx-1.9.5-cp38-abi3-manylinux_2_28_x86_64.whl (3.3 MB)\n",
            "\u001b[2K   \u001b[90m━━━━━━━━━━━━━━━━━━━━━━━━━━━━━━━━━━━━━━━━\u001b[0m \u001b[32m3.3/3.3 MB\u001b[0m \u001b[31m14.3 MB/s\u001b[0m eta \u001b[36m0:00:00\u001b[0m\n",
            "\u001b[?25hDownloading requests-2.31.0-py3-none-any.whl (62 kB)\n",
            "\u001b[2K   \u001b[90m━━━━━━━━━━━━━━━━━━━━━━━━━━━━━━━━━━━━━━━━\u001b[0m \u001b[32m62.6/62.6 kB\u001b[0m \u001b[31m5.8 MB/s\u001b[0m eta \u001b[36m0:00:00\u001b[0m\n",
            "\u001b[?25hDownloading scipy-1.11.4-cp311-cp311-manylinux_2_17_x86_64.manylinux2014_x86_64.whl (36.4 MB)\n",
            "\u001b[2K   \u001b[90m━━━━━━━━━━━━━━━━━━━━━━━━━━━━━━━━━━━━━━━━\u001b[0m \u001b[32m36.4/36.4 MB\u001b[0m \u001b[31m13.0 MB/s\u001b[0m eta \u001b[36m0:00:00\u001b[0m\n",
            "\u001b[?25hBuilding wheels for collected packages: ommx-openjij-adapter\n",
            "  Building wheel for ommx-openjij-adapter (pyproject.toml) ... \u001b[?25l\u001b[?25hdone\n",
            "  Created wheel for ommx-openjij-adapter: filename=ommx_openjij_adapter-1.9.5-py3-none-any.whl size=3547 sha256=5ac036bff9ca3447e243bbc0af4c4f41cd580b5d7c3ae7d74bb2fbb430b17406\n",
            "  Stored in directory: /root/.cache/pip/wheels/8b/8f/03/717fca6e5b049d4430c9835f820396f82be007dca2485a980d\n",
            "Successfully built ommx-openjij-adapter\n",
            "Installing collected packages: requests, numpy, scipy, dimod, ommx, jij-cimod, openjij, jijmodeling, ommx-openjij-adapter\n",
            "  Attempting uninstall: requests\n",
            "    Found existing installation: requests 2.32.3\n",
            "    Uninstalling requests-2.32.3:\n",
            "      Successfully uninstalled requests-2.32.3\n",
            "  Attempting uninstall: numpy\n",
            "    Found existing installation: numpy 2.0.2\n",
            "    Uninstalling numpy-2.0.2:\n",
            "      Successfully uninstalled numpy-2.0.2\n",
            "  Attempting uninstall: scipy\n",
            "    Found existing installation: scipy 1.15.3\n",
            "    Uninstalling scipy-1.15.3:\n",
            "      Successfully uninstalled scipy-1.15.3\n",
            "\u001b[31mERROR: pip's dependency resolver does not currently take into account all the packages that are installed. This behaviour is the source of the following dependency conflicts.\n",
            "google-colab 1.0.0 requires requests==2.32.3, but you have requests 2.31.0 which is incompatible.\n",
            "tsfresh 0.21.0 requires scipy>=1.14.0; python_version >= \"3.10\", but you have scipy 1.11.4 which is incompatible.\n",
            "opencv-python-headless 4.12.0.88 requires numpy<2.3.0,>=2; python_version >= \"3.9\", but you have numpy 1.26.4 which is incompatible.\n",
            "thinc 8.3.6 requires numpy<3.0.0,>=2.0.0, but you have numpy 1.26.4 which is incompatible.\u001b[0m\u001b[31m\n",
            "\u001b[0mSuccessfully installed dimod-0.12.20 jij-cimod-1.6.2 jijmodeling-1.12.4 numpy-1.26.4 ommx-1.9.5 ommx-openjij-adapter-1.9.5 openjij-0.10.7 requests-2.31.0 scipy-1.11.4\n"
          ]
        },
        {
          "output_type": "display_data",
          "data": {
            "application/vnd.colab-display-data+json": {
              "pip_warning": {
                "packages": [
                  "numpy"
                ]
              },
              "id": "f481b412c8c742a9a14788f8719e7adc"
            }
          },
          "metadata": {}
        },
        {
          "output_type": "stream",
          "name": "stdout",
          "text": [
            "Collecting qiskit\n",
            "  Downloading qiskit-2.1.1-cp39-abi3-manylinux_2_17_x86_64.manylinux2014_x86_64.whl.metadata (12 kB)\n",
            "Collecting qiskit-aer\n",
            "  Downloading qiskit_aer-0.17.1-cp311-cp311-manylinux_2_17_x86_64.manylinux2014_x86_64.whl.metadata (8.3 kB)\n",
            "Collecting qiskit-ibm-runtime\n",
            "  Downloading qiskit_ibm_runtime-0.40.1-py3-none-any.whl.metadata (21 kB)\n",
            "Collecting rustworkx>=0.15.0 (from qiskit)\n",
            "  Downloading rustworkx-0.16.0-cp39-abi3-manylinux_2_17_x86_64.manylinux2014_x86_64.whl.metadata (10 kB)\n",
            "Requirement already satisfied: numpy<3,>=1.17 in /usr/local/lib/python3.11/dist-packages (from qiskit) (1.26.4)\n",
            "Requirement already satisfied: scipy>=1.5 in /usr/local/lib/python3.11/dist-packages (from qiskit) (1.11.4)\n",
            "Requirement already satisfied: dill>=0.3 in /usr/local/lib/python3.11/dist-packages (from qiskit) (0.3.7)\n",
            "Collecting stevedore>=3.0.0 (from qiskit)\n",
            "  Downloading stevedore-5.4.1-py3-none-any.whl.metadata (2.3 kB)\n",
            "Requirement already satisfied: typing-extensions in /usr/local/lib/python3.11/dist-packages (from qiskit) (4.14.1)\n",
            "Requirement already satisfied: psutil>=5 in /usr/local/lib/python3.11/dist-packages (from qiskit-aer) (5.9.5)\n",
            "Requirement already satisfied: python-dateutil>=2.8.0 in /usr/local/lib/python3.11/dist-packages (from qiskit-aer) (2.9.0.post0)\n",
            "Requirement already satisfied: requests>=2.19 in /usr/local/lib/python3.11/dist-packages (from qiskit-ibm-runtime) (2.31.0)\n",
            "Collecting requests-ntlm>=1.1.0 (from qiskit-ibm-runtime)\n",
            "  Downloading requests_ntlm-1.3.0-py3-none-any.whl.metadata (2.4 kB)\n",
            "Requirement already satisfied: urllib3>=1.21.1 in /usr/local/lib/python3.11/dist-packages (from qiskit-ibm-runtime) (2.4.0)\n",
            "Collecting ibm-platform-services>=0.22.6 (from qiskit-ibm-runtime)\n",
            "  Downloading ibm_platform_services-0.67.0-py3-none-any.whl.metadata (9.0 kB)\n",
            "Requirement already satisfied: pydantic>=2.5.0 in /usr/local/lib/python3.11/dist-packages (from qiskit-ibm-runtime) (2.11.7)\n",
            "Requirement already satisfied: packaging in /usr/local/lib/python3.11/dist-packages (from qiskit-ibm-runtime) (24.2)\n",
            "Collecting ibm_cloud_sdk_core<4.0.0,>=3.24.2 (from ibm-platform-services>=0.22.6->qiskit-ibm-runtime)\n",
            "  Downloading ibm_cloud_sdk_core-3.24.2-py3-none-any.whl.metadata (8.7 kB)\n",
            "Requirement already satisfied: annotated-types>=0.6.0 in /usr/local/lib/python3.11/dist-packages (from pydantic>=2.5.0->qiskit-ibm-runtime) (0.7.0)\n",
            "Requirement already satisfied: pydantic-core==2.33.2 in /usr/local/lib/python3.11/dist-packages (from pydantic>=2.5.0->qiskit-ibm-runtime) (2.33.2)\n",
            "Requirement already satisfied: typing-inspection>=0.4.0 in /usr/local/lib/python3.11/dist-packages (from pydantic>=2.5.0->qiskit-ibm-runtime) (0.4.1)\n",
            "Requirement already satisfied: six>=1.5 in /usr/local/lib/python3.11/dist-packages (from python-dateutil>=2.8.0->qiskit-aer) (1.17.0)\n",
            "Requirement already satisfied: charset-normalizer<4,>=2 in /usr/local/lib/python3.11/dist-packages (from requests>=2.19->qiskit-ibm-runtime) (3.4.2)\n",
            "Requirement already satisfied: idna<4,>=2.5 in /usr/local/lib/python3.11/dist-packages (from requests>=2.19->qiskit-ibm-runtime) (3.10)\n",
            "Requirement already satisfied: certifi>=2017.4.17 in /usr/local/lib/python3.11/dist-packages (from requests>=2.19->qiskit-ibm-runtime) (2025.7.9)\n",
            "Requirement already satisfied: cryptography>=1.3 in /usr/local/lib/python3.11/dist-packages (from requests-ntlm>=1.1.0->qiskit-ibm-runtime) (43.0.3)\n",
            "Collecting pyspnego>=0.4.0 (from requests-ntlm>=1.1.0->qiskit-ibm-runtime)\n",
            "  Downloading pyspnego-0.11.2-py3-none-any.whl.metadata (5.4 kB)\n",
            "Collecting pbr>=2.0.0 (from stevedore>=3.0.0->qiskit)\n",
            "  Downloading pbr-6.1.1-py2.py3-none-any.whl.metadata (3.4 kB)\n",
            "Requirement already satisfied: cffi>=1.12 in /usr/local/lib/python3.11/dist-packages (from cryptography>=1.3->requests-ntlm>=1.1.0->qiskit-ibm-runtime) (1.17.1)\n",
            "Collecting requests>=2.19 (from qiskit-ibm-runtime)\n",
            "  Downloading requests-2.32.4-py3-none-any.whl.metadata (4.9 kB)\n",
            "Requirement already satisfied: PyJWT<3.0.0,>=2.10.1 in /usr/local/lib/python3.11/dist-packages (from ibm_cloud_sdk_core<4.0.0,>=3.24.2->ibm-platform-services>=0.22.6->qiskit-ibm-runtime) (2.10.1)\n",
            "Requirement already satisfied: setuptools in /usr/local/lib/python3.11/dist-packages (from pbr>=2.0.0->stevedore>=3.0.0->qiskit) (75.2.0)\n",
            "Requirement already satisfied: pycparser in /usr/local/lib/python3.11/dist-packages (from cffi>=1.12->cryptography>=1.3->requests-ntlm>=1.1.0->qiskit-ibm-runtime) (2.22)\n",
            "Downloading qiskit-2.1.1-cp39-abi3-manylinux_2_17_x86_64.manylinux2014_x86_64.whl (7.5 MB)\n",
            "\u001b[2K   \u001b[90m━━━━━━━━━━━━━━━━━━━━━━━━━━━━━━━━━━━━━━━━\u001b[0m \u001b[32m7.5/7.5 MB\u001b[0m \u001b[31m83.9 MB/s\u001b[0m eta \u001b[36m0:00:00\u001b[0m\n",
            "\u001b[?25hDownloading qiskit_aer-0.17.1-cp311-cp311-manylinux_2_17_x86_64.manylinux2014_x86_64.whl (12.4 MB)\n",
            "\u001b[2K   \u001b[90m━━━━━━━━━━━━━━━━━━━━━━━━━━━━━━━━━━━━━━━━\u001b[0m \u001b[32m12.4/12.4 MB\u001b[0m \u001b[31m72.4 MB/s\u001b[0m eta \u001b[36m0:00:00\u001b[0m\n",
            "\u001b[?25hDownloading qiskit_ibm_runtime-0.40.1-py3-none-any.whl (3.2 MB)\n",
            "\u001b[2K   \u001b[90m━━━━━━━━━━━━━━━━━━━━━━━━━━━━━━━━━━━━━━━━\u001b[0m \u001b[32m3.2/3.2 MB\u001b[0m \u001b[31m89.0 MB/s\u001b[0m eta \u001b[36m0:00:00\u001b[0m\n",
            "\u001b[?25hDownloading ibm_platform_services-0.67.0-py3-none-any.whl (364 kB)\n",
            "\u001b[2K   \u001b[90m━━━━━━━━━━━━━━━━━━━━━━━━━━━━━━━━━━━━━━━━\u001b[0m \u001b[32m364.3/364.3 kB\u001b[0m \u001b[31m2.0 MB/s\u001b[0m eta \u001b[36m0:00:00\u001b[0m\n",
            "\u001b[?25hDownloading requests_ntlm-1.3.0-py3-none-any.whl (6.6 kB)\n",
            "Downloading rustworkx-0.16.0-cp39-abi3-manylinux_2_17_x86_64.manylinux2014_x86_64.whl (2.1 MB)\n",
            "\u001b[2K   \u001b[90m━━━━━━━━━━━━━━━━━━━━━━━━━━━━━━━━━━━━━━━━\u001b[0m \u001b[32m2.1/2.1 MB\u001b[0m \u001b[31m89.3 MB/s\u001b[0m eta \u001b[36m0:00:00\u001b[0m\n",
            "\u001b[?25hDownloading stevedore-5.4.1-py3-none-any.whl (49 kB)\n",
            "\u001b[2K   \u001b[90m━━━━━━━━━━━━━━━━━━━━━━━━━━━━━━━━━━━━━━━━\u001b[0m \u001b[32m49.5/49.5 kB\u001b[0m \u001b[31m5.0 MB/s\u001b[0m eta \u001b[36m0:00:00\u001b[0m\n",
            "\u001b[?25hDownloading ibm_cloud_sdk_core-3.24.2-py3-none-any.whl (75 kB)\n",
            "\u001b[2K   \u001b[90m━━━━━━━━━━━━━━━━━━━━━━━━━━━━━━━━━━━━━━━━\u001b[0m \u001b[32m75.8/75.8 kB\u001b[0m \u001b[31m7.5 MB/s\u001b[0m eta \u001b[36m0:00:00\u001b[0m\n",
            "\u001b[?25hDownloading requests-2.32.4-py3-none-any.whl (64 kB)\n",
            "\u001b[2K   \u001b[90m━━━━━━━━━━━━━━━━━━━━━━━━━━━━━━━━━━━━━━━━\u001b[0m \u001b[32m64.8/64.8 kB\u001b[0m \u001b[31m6.4 MB/s\u001b[0m eta \u001b[36m0:00:00\u001b[0m\n",
            "\u001b[?25hDownloading pbr-6.1.1-py2.py3-none-any.whl (108 kB)\n",
            "\u001b[2K   \u001b[90m━━━━━━━━━━━━━━━━━━━━━━━━━━━━━━━━━━━━━━━━\u001b[0m \u001b[32m109.0/109.0 kB\u001b[0m \u001b[31m11.0 MB/s\u001b[0m eta \u001b[36m0:00:00\u001b[0m\n",
            "\u001b[?25hDownloading pyspnego-0.11.2-py3-none-any.whl (130 kB)\n",
            "\u001b[2K   \u001b[90m━━━━━━━━━━━━━━━━━━━━━━━━━━━━━━━━━━━━━━━━\u001b[0m \u001b[32m130.5/130.5 kB\u001b[0m \u001b[31m12.5 MB/s\u001b[0m eta \u001b[36m0:00:00\u001b[0m\n",
            "\u001b[?25hInstalling collected packages: rustworkx, requests, pbr, stevedore, ibm_cloud_sdk_core, qiskit, pyspnego, ibm-platform-services, requests-ntlm, qiskit-aer, qiskit-ibm-runtime\n",
            "  Attempting uninstall: requests\n",
            "    Found existing installation: requests 2.31.0\n",
            "    Uninstalling requests-2.31.0:\n",
            "      Successfully uninstalled requests-2.31.0\n",
            "\u001b[31mERROR: pip's dependency resolver does not currently take into account all the packages that are installed. This behaviour is the source of the following dependency conflicts.\n",
            "openjij 0.10.7 requires requests<2.32.0,>=2.28.0, but you have requests 2.32.4 which is incompatible.\n",
            "google-colab 1.0.0 requires requests==2.32.3, but you have requests 2.32.4 which is incompatible.\n",
            "tsfresh 0.21.0 requires scipy>=1.14.0; python_version >= \"3.10\", but you have scipy 1.11.4 which is incompatible.\u001b[0m\u001b[31m\n",
            "\u001b[0mSuccessfully installed ibm-platform-services-0.67.0 ibm_cloud_sdk_core-3.24.2 pbr-6.1.1 pyspnego-0.11.2 qiskit-2.1.1 qiskit-aer-0.17.1 qiskit-ibm-runtime-0.40.1 requests-2.32.4 requests-ntlm-1.3.0 rustworkx-0.16.0 stevedore-5.4.1\n"
          ]
        }
      ],
      "source": [
        "# 必要なライブラリのインストール\n",
        "!pip install numpy matplotlib scipy scikit-learn pandas xlsxwriter\n",
        "!pip install openjij jijmodeling ommx-openjij-adapter==1.9.5\n",
        "!pip install qiskit qiskit-aer qiskit-ibm-runtime\n"
      ]
    },
    {
      "cell_type": "code",
      "source": [
        "!pip uninstall -y tsp_benchmark"
      ],
      "metadata": {
        "colab": {
          "base_uri": "https://localhost:8080/"
        },
        "id": "7pUqdJAnkP1R",
        "outputId": "c4c73201-03d8-4a95-a150-1e888e8a95df"
      },
      "execution_count": 2,
      "outputs": [
        {
          "output_type": "stream",
          "name": "stdout",
          "text": [
            "\u001b[33mWARNING: Skipping tsp_benchmark as it is not installed.\u001b[0m\u001b[33m\n",
            "\u001b[0m"
          ]
        }
      ]
    },
    {
      "cell_type": "code",
      "execution_count": 3,
      "metadata": {
        "colab": {
          "base_uri": "https://localhost:8080/"
        },
        "id": "-mRgnCKyOr8E",
        "outputId": "1d2ab235-1208-4184-eb6c-3aeeae087a5a"
      },
      "outputs": [
        {
          "output_type": "stream",
          "name": "stdout",
          "text": [
            "Collecting git+https://github.com/thedaemon-wizard/tsp_benckmark\n",
            "  Cloning https://github.com/thedaemon-wizard/tsp_benckmark to /tmp/pip-req-build-9dknnz21\n",
            "  Running command git clone --filter=blob:none --quiet https://github.com/thedaemon-wizard/tsp_benckmark /tmp/pip-req-build-9dknnz21\n",
            "  Resolved https://github.com/thedaemon-wizard/tsp_benckmark to commit 10727fa98a1ff15cddb7776e9309dde9606b3ac4\n",
            "  Preparing metadata (setup.py) ... \u001b[?25l\u001b[?25hdone\n",
            "Requirement already satisfied: requests in /usr/local/lib/python3.11/dist-packages (from tsp_benchmark==1.0.0) (2.32.4)\n",
            "Requirement already satisfied: charset_normalizer<4,>=2 in /usr/local/lib/python3.11/dist-packages (from requests->tsp_benchmark==1.0.0) (3.4.2)\n",
            "Requirement already satisfied: idna<4,>=2.5 in /usr/local/lib/python3.11/dist-packages (from requests->tsp_benchmark==1.0.0) (3.10)\n",
            "Requirement already satisfied: urllib3<3,>=1.21.1 in /usr/local/lib/python3.11/dist-packages (from requests->tsp_benchmark==1.0.0) (2.4.0)\n",
            "Requirement already satisfied: certifi>=2017.4.17 in /usr/local/lib/python3.11/dist-packages (from requests->tsp_benchmark==1.0.0) (2025.7.9)\n",
            "Building wheels for collected packages: tsp_benchmark\n",
            "  Building wheel for tsp_benchmark (setup.py) ... \u001b[?25l\u001b[?25hdone\n",
            "  Created wheel for tsp_benchmark: filename=tsp_benchmark-1.0.0-py3-none-any.whl size=23656 sha256=17fcaf5ab2379fdd25afd36b3c1ea7c1cff9ecc84685fa21cbe8da9fc7d24e3e\n",
            "  Stored in directory: /tmp/pip-ephem-wheel-cache-wixdys4b/wheels/2b/40/d2/e2aaa6a3ac22ee821693e98953e6dee2aa5ae7072a1d0553ce\n",
            "Successfully built tsp_benchmark\n",
            "Installing collected packages: tsp_benchmark\n",
            "Successfully installed tsp_benchmark-1.0.0\n"
          ]
        }
      ],
      "source": [
        "!pip install git+https://github.com/thedaemon-wizard/tsp_benckmark"
      ]
    },
    {
      "cell_type": "code",
      "execution_count": 4,
      "metadata": {
        "colab": {
          "base_uri": "https://localhost:8080/"
        },
        "id": "sHLjMskWOqCn",
        "outputId": "6a47f4db-ac6e-4077-e635-bbfb621866d7"
      },
      "outputs": [
        {
          "output_type": "stream",
          "name": "stdout",
          "text": [
            "Mounted at /content/drive\n"
          ]
        }
      ],
      "source": [
        "# Google colab用マウント\n",
        "from google.colab import drive\n",
        "drive.mount('/content/drive')"
      ]
    },
    {
      "cell_type": "code",
      "execution_count": 5,
      "metadata": {
        "colab": {
          "base_uri": "https://localhost:8080/"
        },
        "id": "-UhRlR3IPBj9",
        "outputId": "99b87a59-0b13-4e94-f2a5-06687fd792c4"
      },
      "outputs": [
        {
          "output_type": "stream",
          "name": "stdout",
          "text": [
            "Collecting qiskit-aer-gpu-cu11\n",
            "  Downloading qiskit_aer_gpu_cu11-0.17.0-cp311-cp311-manylinux_2_17_x86_64.manylinux2014_x86_64.whl.metadata (8.5 kB)\n",
            "Requirement already satisfied: qiskit>=1.1.0 in /usr/local/lib/python3.11/dist-packages (from qiskit-aer-gpu-cu11) (2.1.1)\n",
            "Requirement already satisfied: numpy>=1.16.3 in /usr/local/lib/python3.11/dist-packages (from qiskit-aer-gpu-cu11) (1.26.4)\n",
            "Requirement already satisfied: scipy>=1.0 in /usr/local/lib/python3.11/dist-packages (from qiskit-aer-gpu-cu11) (1.11.4)\n",
            "Requirement already satisfied: psutil>=5 in /usr/local/lib/python3.11/dist-packages (from qiskit-aer-gpu-cu11) (5.9.5)\n",
            "Collecting nvidia-cuda-runtime-cu11>=11.8.89 (from qiskit-aer-gpu-cu11)\n",
            "  Downloading nvidia_cuda_runtime_cu11-11.8.89-py3-none-manylinux2014_x86_64.whl.metadata (1.5 kB)\n",
            "Collecting nvidia-cublas-cu11>=11.11.3.6 (from qiskit-aer-gpu-cu11)\n",
            "  Downloading nvidia_cublas_cu11-11.11.3.6-py3-none-manylinux2014_x86_64.whl.metadata (1.5 kB)\n",
            "Collecting nvidia-cusolver-cu11>=11.4.1.48 (from qiskit-aer-gpu-cu11)\n",
            "  Downloading nvidia_cusolver_cu11-11.4.1.48-py3-none-manylinux2014_x86_64.whl.metadata (1.6 kB)\n",
            "Collecting nvidia-cusparse-cu11>=11.7.5.86 (from qiskit-aer-gpu-cu11)\n",
            "  Downloading nvidia_cusparse_cu11-11.7.5.86-py3-none-manylinux2014_x86_64.whl.metadata (1.5 kB)\n",
            "Collecting cuquantum-cu11<24.11.0,>=23.3.0 (from qiskit-aer-gpu-cu11)\n",
            "  Downloading cuquantum_cu11-24.8.0-py3-none-manylinux2014_x86_64.whl.metadata (2.7 kB)\n",
            "Collecting custatevec-cu11==1.6.0.post1 (from cuquantum-cu11<24.11.0,>=23.3.0->qiskit-aer-gpu-cu11)\n",
            "  Downloading custatevec_cu11-1.6.0.post1-py3-none-manylinux2014_x86_64.whl.metadata (2.1 kB)\n",
            "Collecting cutensornet-cu11==2.5.0 (from cuquantum-cu11<24.11.0,>=23.3.0->qiskit-aer-gpu-cu11)\n",
            "  Downloading cutensornet_cu11-2.5.0-py3-none-manylinux2014_x86_64.whl.metadata (2.0 kB)\n",
            "Collecting cutensor-cu11<3,>=2.0.1 (from cutensornet-cu11==2.5.0->cuquantum-cu11<24.11.0,>=23.3.0->qiskit-aer-gpu-cu11)\n",
            "  Downloading cutensor_cu11-2.2.0-py3-none-manylinux2014_x86_64.whl.metadata (2.2 kB)\n",
            "Requirement already satisfied: rustworkx>=0.15.0 in /usr/local/lib/python3.11/dist-packages (from qiskit>=1.1.0->qiskit-aer-gpu-cu11) (0.16.0)\n",
            "Requirement already satisfied: dill>=0.3 in /usr/local/lib/python3.11/dist-packages (from qiskit>=1.1.0->qiskit-aer-gpu-cu11) (0.3.7)\n",
            "Requirement already satisfied: stevedore>=3.0.0 in /usr/local/lib/python3.11/dist-packages (from qiskit>=1.1.0->qiskit-aer-gpu-cu11) (5.4.1)\n",
            "Requirement already satisfied: typing-extensions in /usr/local/lib/python3.11/dist-packages (from qiskit>=1.1.0->qiskit-aer-gpu-cu11) (4.14.1)\n",
            "Requirement already satisfied: pbr>=2.0.0 in /usr/local/lib/python3.11/dist-packages (from stevedore>=3.0.0->qiskit>=1.1.0->qiskit-aer-gpu-cu11) (6.1.1)\n",
            "Requirement already satisfied: setuptools in /usr/local/lib/python3.11/dist-packages (from pbr>=2.0.0->stevedore>=3.0.0->qiskit>=1.1.0->qiskit-aer-gpu-cu11) (75.2.0)\n",
            "Downloading qiskit_aer_gpu_cu11-0.17.0-cp311-cp311-manylinux_2_17_x86_64.manylinux2014_x86_64.whl (18.0 MB)\n",
            "\u001b[2K   \u001b[90m━━━━━━━━━━━━━━━━━━━━━━━━━━━━━━━━━━━━━━━━\u001b[0m \u001b[32m18.0/18.0 MB\u001b[0m \u001b[31m63.4 MB/s\u001b[0m eta \u001b[36m0:00:00\u001b[0m\n",
            "\u001b[?25hDownloading cuquantum_cu11-24.8.0-py3-none-manylinux2014_x86_64.whl (7.0 kB)\n",
            "Downloading custatevec_cu11-1.6.0.post1-py3-none-manylinux2014_x86_64.whl (38.6 MB)\n",
            "\u001b[2K   \u001b[90m━━━━━━━━━━━━━━━━━━━━━━━━━━━━━━━━━━━━━━━━\u001b[0m \u001b[32m38.6/38.6 MB\u001b[0m \u001b[31m19.9 MB/s\u001b[0m eta \u001b[36m0:00:00\u001b[0m\n",
            "\u001b[?25hDownloading cutensornet_cu11-2.5.0-py3-none-manylinux2014_x86_64.whl (2.2 MB)\n",
            "\u001b[2K   \u001b[90m━━━━━━━━━━━━━━━━━━━━━━━━━━━━━━━━━━━━━━━━\u001b[0m \u001b[32m2.2/2.2 MB\u001b[0m \u001b[31m45.9 MB/s\u001b[0m eta \u001b[36m0:00:00\u001b[0m\n",
            "\u001b[?25hDownloading nvidia_cublas_cu11-11.11.3.6-py3-none-manylinux2014_x86_64.whl (417.9 MB)\n",
            "\u001b[2K   \u001b[90m━━━━━━━━━━━━━━━━━━━━━━━━━━━━━━━━━━━━━━━━\u001b[0m \u001b[32m417.9/417.9 MB\u001b[0m \u001b[31m3.6 MB/s\u001b[0m eta \u001b[36m0:00:00\u001b[0m\n",
            "\u001b[?25hDownloading nvidia_cuda_runtime_cu11-11.8.89-py3-none-manylinux2014_x86_64.whl (875 kB)\n",
            "\u001b[2K   \u001b[90m━━━━━━━━━━━━━━━━━━━━━━━━━━━━━━━━━━━━━━━━\u001b[0m \u001b[32m875.6/875.6 kB\u001b[0m \u001b[31m51.4 MB/s\u001b[0m eta \u001b[36m0:00:00\u001b[0m\n",
            "\u001b[?25hDownloading nvidia_cusolver_cu11-11.4.1.48-py3-none-manylinux2014_x86_64.whl (128.2 MB)\n",
            "\u001b[2K   \u001b[90m━━━━━━━━━━━━━━━━━━━━━━━━━━━━━━━━━━━━━━━━\u001b[0m \u001b[32m128.2/128.2 MB\u001b[0m \u001b[31m7.5 MB/s\u001b[0m eta \u001b[36m0:00:00\u001b[0m\n",
            "\u001b[?25hDownloading nvidia_cusparse_cu11-11.7.5.86-py3-none-manylinux2014_x86_64.whl (204.1 MB)\n",
            "\u001b[2K   \u001b[90m━━━━━━━━━━━━━━━━━━━━━━━━━━━━━━━━━━━━━━━━\u001b[0m \u001b[32m204.1/204.1 MB\u001b[0m \u001b[31m5.6 MB/s\u001b[0m eta \u001b[36m0:00:00\u001b[0m\n",
            "\u001b[?25hDownloading cutensor_cu11-2.2.0-py3-none-manylinux2014_x86_64.whl (139.1 MB)\n",
            "\u001b[2K   \u001b[90m━━━━━━━━━━━━━━━━━━━━━━━━━━━━━━━━━━━━━━━━\u001b[0m \u001b[32m139.1/139.1 MB\u001b[0m \u001b[31m7.2 MB/s\u001b[0m eta \u001b[36m0:00:00\u001b[0m\n",
            "\u001b[?25hInstalling collected packages: cutensor-cu11, custatevec-cu11, nvidia-cusparse-cu11, nvidia-cuda-runtime-cu11, nvidia-cublas-cu11, cutensornet-cu11, nvidia-cusolver-cu11, cuquantum-cu11, qiskit-aer-gpu-cu11\n",
            "Successfully installed cuquantum-cu11-24.8.0 custatevec-cu11-1.6.0.post1 cutensor-cu11-2.2.0 cutensornet-cu11-2.5.0 nvidia-cublas-cu11-11.11.3.6 nvidia-cuda-runtime-cu11-11.8.89 nvidia-cusolver-cu11-11.4.1.48 nvidia-cusparse-cu11-11.7.5.86 qiskit-aer-gpu-cu11-0.17.0\n",
            "Requirement already satisfied: cuquantum-cu11 in /usr/local/lib/python3.11/dist-packages (24.8.0)\n",
            "Requirement already satisfied: custatevec-cu11==1.6.0.post1 in /usr/local/lib/python3.11/dist-packages (from cuquantum-cu11) (1.6.0.post1)\n",
            "Requirement already satisfied: cutensornet-cu11==2.5.0 in /usr/local/lib/python3.11/dist-packages (from cuquantum-cu11) (2.5.0)\n",
            "Requirement already satisfied: cutensor-cu11<3,>=2.0.1 in /usr/local/lib/python3.11/dist-packages (from cutensornet-cu11==2.5.0->cuquantum-cu11) (2.2.0)\n"
          ]
        }
      ],
      "source": [
        "#GPUを使用する場合\n",
        "# CUDA 12用\n",
        "#!pip install qiskit-aer-gpu\n",
        "#!pip install cuquantum-cu12\n",
        "\n",
        "# CUDA 11用\n",
        "!pip install qiskit-aer-gpu-cu11\n",
        "!pip install cuquantum-cu11"
      ]
    },
    {
      "cell_type": "code",
      "execution_count": 1,
      "metadata": {
        "id": "80JSS53xN56v"
      },
      "outputs": [],
      "source": [
        "# ライブラリのインポート\n",
        "import numpy as np\n",
        "import matplotlib\n",
        "matplotlib.use('Agg')  # Use non-interactive backend\n",
        "import matplotlib.pyplot as plt\n",
        "\n",
        "from pathlib import Path\n",
        "from datetime import datetime\n",
        "\n",
        "# TSPベンチマークライブラリのインポート\n",
        "# 実際の使用時は、ライブラリをモジュールとしてインポートします\n",
        "from tsp_benchmark import TSPBenchmark, Algorithm"
      ]
    },
    {
      "cell_type": "code",
      "execution_count": 2,
      "metadata": {
        "colab": {
          "base_uri": "https://localhost:8080/"
        },
        "id": "ijYbwVs2PNjw",
        "outputId": "33b4261f-8cc6-4fe4-867a-e475521c6a6a"
      },
      "outputs": [
        {
          "output_type": "stream",
          "name": "stdout",
          "text": [
            "GPU Information:\n",
            "Sat Jul 12 08:09:51 2025       \n",
            "+-----------------------------------------------------------------------------------------+\n",
            "| NVIDIA-SMI 550.54.15              Driver Version: 550.54.15      CUDA Version: 12.4     |\n",
            "|-----------------------------------------+------------------------+----------------------+\n",
            "| GPU  Name                 Persistence-M | Bus-Id          Disp.A | Volatile Uncorr. ECC |\n",
            "| Fan  Temp   Perf          Pwr:Usage/Cap |           Memory-Usage | GPU-Util  Compute M. |\n",
            "|                                         |                        |               MIG M. |\n",
            "|=========================================+========================+======================|\n",
            "|   0  Tesla T4                       Off |   00000000:00:04.0 Off |                    0 |\n",
            "| N/A   47C    P8             10W /   70W |       0MiB /  15360MiB |      0%      Default |\n",
            "|                                         |                        |                  N/A |\n",
            "+-----------------------------------------+------------------------+----------------------+\n",
            "                                                                                         \n",
            "+-----------------------------------------------------------------------------------------+\n",
            "| Processes:                                                                              |\n",
            "|  GPU   GI   CI        PID   Type   Process name                              GPU Memory |\n",
            "|        ID   ID                                                               Usage      |\n",
            "|=========================================================================================|\n",
            "|  No running processes found                                                             |\n",
            "+-----------------------------------------------------------------------------------------+\n",
            "\n",
            "\n",
            "CPU Cores: 2\n",
            "Python Version: 3.11.13 (main, Jun  4 2025, 08:57:29) [GCC 11.4.0]\n"
          ]
        }
      ],
      "source": [
        "# Check GPU availability and system information\n",
        "import subprocess\n",
        "import sys\n",
        "import multiprocessing\n",
        "\n",
        "# Check if GPU is available\n",
        "try:\n",
        "    gpu_info = subprocess.check_output(['nvidia-smi'], stderr=subprocess.STDOUT).decode()\n",
        "    print(\"GPU Information:\")\n",
        "    print(gpu_info)\n",
        "except:\n",
        "    print(\"No GPU detected. Please enable GPU runtime in Colab.\")\n",
        "    print(\"Go to Runtime -> Change runtime type -> GPU\")\n",
        "\n",
        "# Check CPU information\n",
        "print(f\"\\nCPU Cores: {multiprocessing.cpu_count()}\")\n",
        "print(f\"Python Version: {sys.version}\")"
      ]
    },
    {
      "cell_type": "markdown",
      "metadata": {
        "id": "yJP4Z9pdN56w"
      },
      "source": [
        "## 2. 巡回セールスマン問題（TSP）とは <a name=\"tsp-definition\"></a>\n",
        "\n",
        "巡回セールスマン問題（Traveling Salesman Problem, TSP）は、組合せ最適化問題の代表例です。巡回セールスマン問題はセールスマンが全地点を巡回できる以下の最小の距離$D$を求めることが目標になります。\n",
        "\n",
        "### 問題の定義\n",
        "\n",
        "セールスマンが$N$個の都市を訪問する際に：\n",
        "- すべての都市を**ちょうど1回ずつ**訪問する\n",
        "- 最初の都市に戻ってくる\n",
        "- 移動距離の総和を**最小化**する\n",
        "\n",
        "### 数理モデル\n",
        "\n",
        "TSPは以下の数式で表現されます：\n",
        "\n",
        "$$D=\\min \\sum_{t=0}^{N-1} \\sum_{i=0}^{N-1} \\sum_{j=0}^{N-1} d_{ij} x_{i,t} x_{j,t+1 \\bmod N}$$\n",
        "\n",
        "制約条件：\n",
        "$$\\sum_{t} x_{i,t} = 1 \\quad \\forall i \\in \\{0, ..., N-1\\} \\quad \\text{(各都市を1回訪問)}$$\n",
        "$$\\sum_{i} x_{i,t} = 1 \\quad \\forall t \\in \\{0, ..., N-1\\} \\quad \\text{(各時刻で1都市に滞在)}$$\n",
        "$$x_{i,t} \\in \\{0, 1\\}$$\n",
        "\n",
        "ここで：\n",
        "- $d_{ij}$：都市$i$から都市$j$への距離\n",
        "- $x_{i,t}$：時刻$t$に都市$i$にいる場合は1、そうでない場合は0となる決定変数\n"
      ]
    },
    {
      "cell_type": "markdown",
      "metadata": {
        "id": "HdOwikfNN56w"
      },
      "source": [
        "## 3. ライブラリの基本的な使い方 <a name=\"basic-usage\"></a>\n",
        "\n"
      ]
    },
    {
      "cell_type": "markdown",
      "source": [
        "###  3.1 問題の作成\n",
        "\n",
        "TSPBenchmarkクラスは、距離行列または座標から問題を作成できます。"
      ],
      "metadata": {
        "id": "QfuBh-_Py31t"
      }
    },
    {
      "cell_type": "code",
      "execution_count": 3,
      "metadata": {
        "colab": {
          "base_uri": "https://localhost:8080/"
        },
        "id": "HAXc6KN1SCwu",
        "outputId": "4cd8d454-33e9-430a-8b89-eb9daae27149"
      },
      "outputs": [
        {
          "output_type": "stream",
          "name": "stdout",
          "text": [
            "Output directory: tsp_benchmark_results/20250712\n",
            "\n"
          ]
        }
      ],
      "source": [
        "# Set output directory\n",
        "output_base_dir = \"tsp_benchmark_results\"\n",
        "timestamp = datetime.now().strftime('%Y%m%d')\n",
        "output_dir = f\"{output_base_dir}/{timestamp}\"\n",
        "\n",
        "print(f\"Output directory: {output_dir}\\n\")\n",
        "\n",
        "graphs_dir = f\"{output_dir}/graphs\"\n",
        "tables_dir = f\"{output_dir}/tables\"\n",
        "reports_dir = f\"{output_dir}/reports\""
      ]
    },
    {
      "cell_type": "code",
      "execution_count": 4,
      "metadata": {
        "colab": {
          "base_uri": "https://localhost:8080/"
        },
        "id": "Knw7p7ddN56w",
        "outputId": "935b7e81-a68b-4be5-c3d1-1a91ce32598e"
      },
      "outputs": [
        {
          "output_type": "stream",
          "name": "stdout",
          "text": [
            "都市数: 5\n",
            "距離行列:\n",
            "[[0.         1.         1.41421356 1.         0.70710678]\n",
            " [1.         0.         1.         1.41421356 0.70710678]\n",
            " [1.41421356 1.         0.         1.         0.70710678]\n",
            " [1.         1.41421356 1.         0.         0.70710678]\n",
            " [0.70710678 0.70710678 0.70710678 0.70710678 0.        ]]\n"
          ]
        }
      ],
      "source": [
        "# 方法1: 座標から問題を作成\n",
        "coordinates = [\n",
        "    (0.0, 0.0),   # 都市0\n",
        "    (1.0, 0.0),   # 都市1\n",
        "    (1.0, 1.0),   # 都市2\n",
        "    (0.0, 1.0),   # 都市3\n",
        "    (0.5, 0.5)    # 都市4\n",
        "]\n",
        "\n",
        "# TSPインスタンスの作成\n",
        "tsp_coords = TSPBenchmark(coordinates=coordinates)\n",
        "print(f\"都市数: {tsp_coords.n_cities}\")\n",
        "print(\"距離行列:\")\n",
        "print(tsp_coords.distance_matrix)"
      ]
    },
    {
      "cell_type": "code",
      "execution_count": 5,
      "metadata": {
        "colab": {
          "base_uri": "https://localhost:8080/"
        },
        "id": "GaYghpE2N56w",
        "outputId": "3bf287c9-4d7e-47e3-d4df-ab7d76fff5bf"
      },
      "outputs": [
        {
          "output_type": "stream",
          "name": "stdout",
          "text": [
            "Coordinates estimated from distance matrix using MDS (stress: 0.00137)\n",
            "都市数: 3\n"
          ]
        }
      ],
      "source": [
        "# 方法2: 距離行列から問題を作成\n",
        "distance_matrix = np.array([\n",
        "    [0.0, 2.5, 3.2, 1.8, 4.1],\n",
        "    [2.5, 0.0, 1.9, 3.7, 2.2],\n",
        "    [3.2, 1.9, 0.0, 2.8, 3.5],\n",
        "    [1.8, 3.7, 2.8, 0.0, 2.9],\n",
        "    [4.1, 2.2, 3.5, 2.9, 0.0]\n",
        "])\n",
        "distance_matrix = np.array([\n",
        "    [0.0, 2.5, 3.2],\n",
        "    [2.5, 0.0, 1.9],\n",
        "    [3.2, 1.9, 0.0]\n",
        "])\n",
        "\n",
        "tsp_dist = TSPBenchmark(distance_matrix=distance_matrix)\n",
        "print(f\"都市数: {tsp_dist.n_cities}\")"
      ]
    },
    {
      "cell_type": "code",
      "execution_count": 6,
      "metadata": {
        "colab": {
          "base_uri": "https://localhost:8080/"
        },
        "id": "61y_ZGa7N56w",
        "outputId": "169c7103-b289-46f2-bac7-b81af90469c3"
      },
      "outputs": [
        {
          "output_type": "stream",
          "name": "stdout",
          "text": [
            "Cities visualization saved to tsp_benchmark_results/20250712/graphs/cities_layout.png\n"
          ]
        }
      ],
      "source": [
        "# 都市の可視化\n",
        "tsp_dist.visualize_cities(\"TSP Cities Layout (Qiskit v2.0)\",\n",
        "                        save_path=\"cities_layout.png\",\n",
        "                        output_dir=f\"{output_dir}/graphs\")"
      ]
    },
    {
      "cell_type": "markdown",
      "metadata": {
        "id": "b_aP8izmN56x"
      },
      "source": [
        "### 3.2 アルゴリズムの実行\n",
        "\n",
        "ライブラリは統一されたインターフェースで複数のアルゴリズムを実行できます。"
      ]
    },
    {
      "cell_type": "code",
      "execution_count": 7,
      "metadata": {
        "colab": {
          "base_uri": "https://localhost:8080/"
        },
        "id": "fRSuSn-sN56x",
        "outputId": "ed323e3d-5a8b-47b4-a717-9213c85ab8f1"
      },
      "outputs": [
        {
          "output_type": "stream",
          "name": "stdout",
          "text": [
            "アルゴリズム: simulated_annealing\n",
            "総移動距離: 7.60000\n",
            "実行可能解: True\n",
            "計算時間: 0.06613秒\n",
            "訪問順序: [0, 1, 2]\n"
          ]
        }
      ],
      "source": [
        "\n",
        "\n",
        "# 例：Simulated Annealingで解く\n",
        "result_sa = tsp_dist.solve(\n",
        "    algorithm=Algorithm.SIMULATED_ANNEALING,\n",
        "    num_reads=100,\n",
        "    uniform_penalty_weight=20.0\n",
        ")\n",
        "\n",
        "print(f\"アルゴリズム: {result_sa.algorithm}\")\n",
        "print(f\"総移動距離: {result_sa.distance:.5f}\")\n",
        "print(f\"実行可能解: {result_sa.feasible}\")\n",
        "print(f\"計算時間: {result_sa.computation_time:.5f}秒\")\n",
        "print(f\"訪問順序: {result_sa.path}\")"
      ]
    },
    {
      "cell_type": "markdown",
      "source": [
        "## 4. アルゴリズム詳細 <a name=\"algorithms\"></a>"
      ],
      "metadata": {
        "id": "mKLOYmOHzYEu"
      }
    },
    {
      "cell_type": "markdown",
      "metadata": {
        "id": "VkTP5aWZN56x"
      },
      "source": [
        "\n",
        "\n",
        "### 4.1 Simulated Annealing <a id=\"simulated-annealing\"></a>\n",
        "\n",
        "**Simulated Annealing (SA)** は、物理学の焼きなまし（アニーリング）過程を模倣したメタヒューリスティックアルゴリズムです。\n",
        "\n"
      ]
    },
    {
      "cell_type": "markdown",
      "source": [
        "#### アルゴリズムの原理\n",
        "\n",
        "1. **温度パラメータ**：高温から低温へ徐々に冷却\n",
        "2. **確率的受理**：改悪解も確率的に受理（局所最適解からの脱出）\n",
        "3. **受理確率**：$P = \\exp(-\\Delta E / T)$\n",
        "   - $\\Delta E$：エネルギー差（目的関数の変化）\n",
        "   - $T$：温度パラメータ\n"
      ],
      "metadata": {
        "id": "zNciywLv2C2m"
      }
    },
    {
      "cell_type": "markdown",
      "source": [
        "#### アルゴリズムの一般的な手順\n",
        "1. 初期温度を設定する\n",
        "2. 初期値をサンプリングする\n",
        "3. 温度を下げる\n",
        "4. ランダムに次の点をサンプリングする</br>\n",
        "  4.1. ランダムにサンプルした点が現在の点よりも良かったら、現在の点を更新する</br>\n",
        "  4.2. ランダムにサンプルした点が現在の点よりも悪くても、\n",
        "5. 温度に依存する一定確率で現在の点を更新する\n",
        "3~4を繰り返す\n"
      ],
      "metadata": {
        "id": "F8OJt6wC2JBR"
      }
    },
    {
      "cell_type": "markdown",
      "source": [
        "#### アルゴリズムの手順（コードとの対応）\n",
        "\n",
        "```python\n",
        "# ステップ1: OMMX Instanceの作成\n",
        "instance = self._create_ommx_instance()\n",
        "# → TSPの制約付き最適化問題を定義\n",
        "\n",
        "# ステップ2: OMMX-OpenJij Adapterの初期化\n",
        "adapter = oj_ad.OMMXOpenJijSAAdapter(instance)\n",
        "\n",
        "# ステップ3: サンプリング実行\n",
        "sampleset = adapter.sample(\n",
        "    instance,\n",
        "    num_reads=num_reads,              # 試行回数\n",
        "    uniform_penalty_weight=uniform_penalty_weight  # 制約違反ペナルティ\n",
        ")\n",
        "\n",
        "# ステップ4: 最良の実行可能解を取得\n",
        "best_sample = sampleset.best_feasible_unrelaxed()\n",
        "\n",
        "# ステップ5: 解から巡回路を構築\n",
        "x_value = best_sample.extract_decision_variables(\"x\")\n",
        "path = self._extract_path(x_value)\n",
        "```\n"
      ],
      "metadata": {
        "id": "mGDqrUTe2NLA"
      }
    },
    {
      "cell_type": "markdown",
      "source": [
        "#### QUBO形式への変換\n",
        "\n",
        "TSPの制約付き最適化問題は、ペナルティ法(制約最適化問題の手法)により以下のQUBO形式に変換されます：\n",
        "\n",
        "$\\min \\sum_{ij} Q_{ij} x_i x_j$\n",
        "\n",
        "ここで、$Q_{ij}$には：\n",
        "- 元の目的関数（距離）の係数\n",
        "- 制約違反に対するペナルティ項\n",
        "\n",
        "が含まれます。ここでQUBOとはこの巡回セールスマン問題のように0と1しかとらない変数を上記の行列にして最小値を求めることを指します。\n"
      ],
      "metadata": {
        "id": "yhHov3r-2Rhh"
      }
    },
    {
      "cell_type": "markdown",
      "source": [
        "#### パラメータの選択根拠\n",
        "\n",
        "- **num_reads (サンプリング回数)**：\n",
        "  - 多いほど良い解が得られる可能性が高い\n",
        "  - 計算時間とのトレードオフ\n",
        "  - 推奨値：100〜1000\n",
        "\n",
        "\n",
        "\n",
        "- **uniform_penalty_weight (ペナルティ重み)**：\n",
        "  - 制約違反を抑制するパラメータ\n",
        "  - 小さすぎると制約を満たさない\n",
        "  - 大きすぎると目的関数の最適化が疎かになる\n",
        "  - 推奨値：目的関数の典型的な値の10〜100倍\n",
        "\n"
      ],
      "metadata": {
        "id": "MvCPCumN2U_2"
      }
    },
    {
      "cell_type": "markdown",
      "source": [
        "### **参考文献**：\n",
        "- Kirkpatrick, S., et al. (1983). \"Optimization by simulated annealing.\" Science, 220(4598), 671-680.\n",
        "- Lucas, A. (2014). \"Ising formulations of many NP problems.\" Frontiers in Physics, 2, 5. [DOI: 10.3389/fphy.2014.00005](https://doi.org/10.3389/fphy.2014.00005)\n",
        "- [OMMX Documentation](https://github.com/Jij-Inc/ommx)\n",
        "- [OpenJij Documentation](https://tutorial.openjij.org/ja/intro.html)\n",
        "- [OpenJij Tutorial - TSP](https://tutorial.openjij.org/ja/tutorial/004-jijmodeling_openjij_tsp.html)\n",
        "- [シミュレーテッド・アニーリング from Scratch](https://qiita.com/meltyyyyy/items/096efb08fb4ec532c330)"
      ],
      "metadata": {
        "id": "g30Qy0gU2asa"
      }
    },
    {
      "cell_type": "code",
      "execution_count": 8,
      "metadata": {
        "colab": {
          "base_uri": "https://localhost:8080/"
        },
        "id": "lDxZs9gWN56x",
        "outputId": "794ac451-87bd-42b5-ea7e-e0589c2a5d30"
      },
      "outputs": [
        {
          "output_type": "stream",
          "name": "stdout",
          "text": [
            "Solution visualization saved to tsp_benchmark_results/20250712/graphs/sa_solution.png\n",
            "Result: TSPResult(algorithm=simulated_annealing, distance=7.60000, feasible=True, computation_time=0.06613s)\n"
          ]
        }
      ],
      "source": [
        "# Simulated Annealingの詳細パラメータ\n",
        "result_sa_detailed = tsp_dist.solve(\n",
        "    algorithm=Algorithm.SIMULATED_ANNEALING,\n",
        "    num_reads=100,              # サンプリング回数\n",
        "    uniform_penalty_weight=50.0 # 制約違反に対するペナルティ重み\n",
        ")\n",
        "\n",
        "# 結果の可視化\n",
        "tsp_dist.visualize_solution(result_sa_detailed, \"SA Solution (v2.0)\",\n",
        "                          save_path=\"sa_solution.png\",\n",
        "                          output_dir=graphs_dir)\n",
        "print(f\"Result: {result_sa}\")"
      ]
    },
    {
      "cell_type": "markdown",
      "metadata": {
        "id": "hAD0h5FfN56y"
      },
      "source": [
        "### 4.2 QAOA (Quantum Approximate Optimization Algorithm) <a id=\"qaoa\"></a>\n",
        "\n",
        "**QAOA**は、組合せ最適化問題を解くための量子アルゴリズムです。\n",
        "\n"
      ]
    },
    {
      "cell_type": "markdown",
      "source": [
        "#### アルゴリズムの原理\n",
        "\n",
        "QAOAは以下の手順で動作します：\n",
        "\n",
        "1. **初期状態**：全ての基底状態の重ね合わせ $|+\\rangle^{\\otimes n}$\n",
        "\n",
        "2. **パラメータ化量子回路**：\n",
        "   $|\\psi(\\boldsymbol{\\beta}, \\boldsymbol{\\gamma})\\rangle = \\prod_{k=1}^{p} U_M(\\beta_k) U_C(\\gamma_k) |+\\rangle^{\\otimes n}$\n",
        "   \n",
        "   ここで：\n",
        "   - $U_C(\\gamma) = e^{-i\\gamma H_C}$：コストハミルトニアンによる時間発展\n",
        "   - $U_M(\\beta) = e^{-i\\beta H_M}$：ミキサーハミルトニアンによる時間発展\n",
        "   - $p$：QAOAの層数（深さ）\n",
        "\n",
        "3. **古典最適化**：期待値 $\\langle\\psi(\\boldsymbol{\\beta}, \\boldsymbol{\\gamma})|H_C|\\psi(\\boldsymbol{\\beta}, \\boldsymbol{\\gamma})\\rangle$ を最小化\n",
        "4. $(\\boldsymbol{\\beta}, \\boldsymbol{\\gamma})$を更新して2.を終了条件まで実行\n",
        "\n"
      ],
      "metadata": {
        "id": "uckPNvlj0AoL"
      }
    },
    {
      "cell_type": "markdown",
      "source": [
        "#### アルゴリズムの手順（コードとの対応）\n",
        "\n",
        "```python\n",
        "# ステップ1: OMMX InstanceからQUBO行列を取得\n",
        "instance = self._create_ommx_instance()\n",
        "qubo_matrix, constant = instance.to_qubo(uniform_penalty_weight=uniform_penalty_weight)\n",
        "\n",
        "# ステップ2: QUBOをIsingハミルトニアンに変換\n",
        "J, h, offset = self._qubo_to_ising(qubo_matrix, n_vars)\n",
        "# 変換式: x_i = (1 - s_i) / 2\n",
        "\n",
        "# ステップ3: Pauliハミルトニアンの構築\n",
        "cost_hamiltonian = self._ising_to_pauli_hamiltonian(J, h)\n",
        "\n",
        "# ステップ4: QAOA ansatzの作成\n",
        "ansatz = QAOAAnsatz(cost_operator=cost_hamiltonian, reps=p)\n",
        "\n",
        "# ステップ5: 初期パラメータの設定（TQA戦略）\n",
        "# β: 減少スケジュール\n",
        "for i in range(p):\n",
        "    beta_val = np.pi * (1 - (i + 1) / (p + 1))\n",
        "# γ: 増加スケジュール  \n",
        "for i in range(p):\n",
        "    gamma_val = np.pi * (i + 1) / (2 * p)\n",
        "\n",
        "# ステップ6: 古典最適化（scipy.optimize.minimize）\n",
        "result = minimize(cost_func_estimator, init_params, method=optimizer)\n",
        "\n",
        "# ステップ7: 最適パラメータで測定\n",
        "sampler = SamplerV2().from_backend(backend=aer_backend)\n",
        "job = sampler.run([pub], shots=shots)\n",
        "```"
      ],
      "metadata": {
        "id": "A0ePvVR50NHA"
      }
    },
    {
      "cell_type": "markdown",
      "source": [
        "#### QUBOからIsingハミルトニアンへの変換\n",
        "\n",
        "QUBO形式：$\\min \\sum_{ij} Q_{ij} x_i x_j$ （$x_i \\in \\{0,1\\}$）\n",
        "\n",
        "Ising形式：$H = \\sum_{ij} J_{ij} s_i s_j + \\sum_i h_i s_i$ （$s_i \\in \\{-1,1\\}$）\n",
        "\n",
        "変換式：$x_i = \\frac{1-s_i}{2}$\n",
        "\n",
        "変換の詳細：\n",
        "- $J_{ij} = \\frac{Q_{ij} + Q_{ji}}{4}$ （非対角要素）\n",
        "- $h_i = -\\frac{Q_{ii}}{2} - \\frac{1}{4}\\sum_j (Q_{ij} + Q_{ji})$ （対角要素）\n"
      ],
      "metadata": {
        "id": "MmQsgxAA0SaQ"
      }
    },
    {
      "cell_type": "markdown",
      "source": [
        "#### パラメータの選択根拠\n",
        "\n",
        "- **p (QAOA層数)**：\n",
        "  - 層数が多いほど表現力が高い\n",
        "  - 量子ノイズと計算時間の影響を考慮\n",
        "  - 推奨値：1〜5（問題サイズに依存）\n",
        "\n",
        "- **optimizer (古典最適化器)**：\n",
        "  - COBYLA：制約なし最適化、導関数不要\n",
        "  - SPSA：ノイズに強い確率的最適化(qiskit.algorithmはQiskit v2.0以降でまだ対応していないため省略)\n",
        "  - 推奨：COBYLA（安定性重視）\n",
        "\n",
        "- **shots (測定回数)**：\n",
        "  - 期待値の統計的精度に影響\n",
        "  - 推奨値：1024〜8192\n",
        "\n",
        "- **初期パラメータ**：\n",
        "  - TQA (Trotterized Quantum Annealing) 戦略を採用\n",
        "  - $\\beta$：減少スケジュール\n",
        "  - $\\gamma$：増加スケジュール\n",
        "  "
      ],
      "metadata": {
        "id": "KGe1GFnF0Wfk"
      }
    },
    {
      "cell_type": "markdown",
      "source": [
        "#### **参考文献**：\n",
        "- Farhi, E., et al. (2014). \"A quantum approximate optimization algorithm.\" arXiv:1411.4028.\n",
        "- Hadfield, S., et al. (2019). \"From the quantum approximate optimization algorithm to a quantum alternating operator ansatz.\" Algorithms, 12(2), 34. [DOI: 10.3390/a12020034](https://doi.org/10.3390/a12020034)\n",
        "- [IBM Quantum QAOA Tutorial](https://learning.quantum.ibm.com/tutorial/quantum-approximate-optimization-algorithm)\n",
        "- [Qiskit Optimization - QUBO to Ising](https://quantum.cloud.ibm.com/docs/en/tutorials/quantum-approximate-optimization-algorithm)\n",
        "- [Qiskit Textbook - QAOA](https://github.com/Qiskit/textbook/blob/main/notebooks/ch-applications/qaoa.ipynb)\n",
        "- Zhou, L., et al. (2020). \"Quantum approximate optimization algorithm: Performance, mechanism, and implementation on near-term devices.\" Physical Review X, 10(2), 021067."
      ],
      "metadata": {
        "id": "YlUlrOaH0eBe"
      }
    },
    {
      "cell_type": "code",
      "execution_count": 9,
      "metadata": {
        "colab": {
          "base_uri": "https://localhost:8080/"
        },
        "id": "-dsBM-G_N56y",
        "outputId": "38e7a98a-93c0-4080-fbb1-f7d066f7b864"
      },
      "outputs": [
        {
          "output_type": "stream",
          "name": "stdout",
          "text": [
            "  Max coefficient: 102.85000\n",
            "  Scaling Hamiltonian: 0.09723\n",
            "  Auto Selection: GPU Use (method=statevector)\n",
            "  Avable Device: ('CPU', 'GPU')\n",
            "  Selected Backend: {'method': 'statevector', 'device': 'GPU'}\n",
            "  Qubit Property Backend <bound method BackendV2.qubit_properties of AerSimulator('aer_simulator_statevector_gpu')>\n",
            "  Number of qubits: 9, QAOA layers: 3\n",
            "  Backend: AerSimulator('aer_simulator_statevector_gpu')\n",
            "  Circuit parameters: 6\n",
            "  Initial parameters: β=[2.35619449 1.57079633 0.78539816], γ=[0.52359878 1.04719755 1.57079633]\n",
            "  Iteration 10: cost = 1148.6970\n",
            "  Iteration 20: cost = 855.0156\n",
            "  Iteration 30: cost = 897.9926\n",
            "  Iteration 40: cost = 807.0164\n",
            "  Iteration 50: cost = 798.6131\n",
            "  Iteration 60: cost = 804.4355\n",
            "  Iteration 70: cost = 799.7257\n",
            "  Iteration 80: cost = 802.6304\n",
            "QAOA optimization completed in 87 iterations\n",
            "Final cost: 788.1251\n",
            "Optimization success: True\n",
            "  Best cost: 788.1251\n",
            "  Successfully created bound circuits with optimal parameters\n",
            "  Feasible solution found: distance=7.60000, count=63\n",
            "Result: TSPResult(algorithm=qaoa, distance=7.60000, feasible=True, computation_time=117.31767s)\n"
          ]
        }
      ],
      "source": [
        "# QAOAの実行\n",
        "result_qaoa = tsp_dist.solve(\n",
        "    algorithm=Algorithm.QAOA,\n",
        "    p=3,                          # QAOA層数\n",
        "    optimizer='COBYLA',           # 古典最適化アルゴリズム\n",
        "    maxiter=300,                  # 最適化の最大反復回数\n",
        "    uniform_penalty_weight=100.0,  # ペナルティ重み\n",
        "    shots=4096,                   # 測定回数\n",
        "    backend_type='auto',          # バックエンド自動選択\n",
        "    use_gpu=True                 # GPU使用フラグ\n",
        ")\n",
        "\n",
        "print(f\"Result: {result_qaoa}\")"
      ]
    },
    {
      "cell_type": "code",
      "execution_count": 11,
      "metadata": {
        "colab": {
          "base_uri": "https://localhost:8080/"
        },
        "id": "1YQiOy35N56y",
        "outputId": "eaf46d59-336c-441a-d317-8da353eaeee9"
      },
      "outputs": [
        {
          "output_type": "stream",
          "name": "stdout",
          "text": [
            "QAOA convergence chart saved to tsp_benchmark_results/20250712/graphs/qaoa_convergence.png\n",
            "Solution visualization saved to tsp_benchmark_results/20250712/graphs/qaoa_solution.png\n"
          ]
        }
      ],
      "source": [
        "# QAOA収束の可視化\n",
        "tsp_dist.plot_qaoa_convergence(result_qaoa,\n",
        "                             save_path=\"qaoa_convergence.png\",\n",
        "                             output_dir=graphs_dir)\n",
        "tsp_dist.visualize_solution(result_qaoa, \"QAOA Solution (v2.0)\",\n",
        "                          save_path=\"qaoa_solution.png\",\n",
        "                          output_dir=graphs_dir)"
      ]
    },
    {
      "cell_type": "markdown",
      "metadata": {
        "id": "q36LzwJvN56y"
      },
      "source": []
    },
    {
      "cell_type": "markdown",
      "metadata": {
        "id": "GJ-Ln0uRN56y"
      },
      "source": [
        "### 4.3 Held-Karp アルゴリズム <a id=\"held-karp\"></a>\n"
      ]
    },
    {
      "cell_type": "markdown",
      "source": [
        "### アルゴリズム概要\n",
        "\n",
        "**Held-Karpアルゴリズム**（Bellman-Held-Karpアルゴリズムとも呼ばれる）は、巡回セールスマン問題（TSP）を動的計画法で解く厳密解法です。\n"
      ],
      "metadata": {
        "id": "FfJExv4F2n05"
      }
    },
    {
      "cell_type": "markdown",
      "source": [
        "#### アルゴリズムの原理\n",
        "\n",
        "1. **部分問題の定義**：\n",
        "   - $dp[S][i]$：都市集合$S$を訪問し、都市$i$で終わる最短経路長\n",
        "\n",
        "2. **再帰関係**：\n",
        "   $dp[S][i] = \\min_{j \\in S \\setminus \\{i\\}} \\{dp[S \\setminus \\{i\\}][j] + d_{ji}\\}$\n",
        "\n",
        "3. **時間計算量**：$O(n^2 \\cdot 2^n)$\n",
        "   - 小規模問題（$n \\leq 20$）に適用可能\n"
      ],
      "metadata": {
        "id": "no2LU-E12s2r"
      }
    },
    {
      "cell_type": "markdown",
      "source": [
        "### Held-Karp Algorithm の詳細手順\n",
        "\n",
        "\n",
        "\n",
        "#### 記法の定義\n",
        "\n",
        "- $n$：都市の数\n",
        "- $d_{ij}$：都市$i$から都市$j$への距離\n",
        "- $S$：都市の部分集合\n",
        "- $dp(S, i)$：都市0から開始し、集合$S$内の全ての都市を訪問して都市$i$で終わる最短経路の長さ\n",
        "\n",
        "\n",
        "#### アルゴリズムの手順\n",
        "\n",
        "##### **ステップ1：初期化**\n",
        "\n",
        "都市0を開始点として固定し、基底ケースを設定：\n",
        "\n",
        "$$dp(\\{0\\}, 0) = 0$$\n",
        "\n",
        "他の全ての状態を無限大に初期化：\n",
        "\n",
        "$$dp(S, i) = \\infty \\quad \\text{for all other } (S, i)$$\n",
        "\n",
        "##### **ステップ2：部分問題の計算**\n",
        "\n",
        "集合のサイズ$|S| = 2, 3, ..., n$の順に、以下の再帰関係式を用いて計算：\n",
        "\n",
        "$$dp(S, i) = \\min_{j \\in S, j \\neq i} \\{dp(S \\setminus \\{i\\}, j) + d_{ji}\\}$$\n",
        "\n",
        "ここで：\n",
        "- $S \\setminus \\{i\\}$は集合$S$から都市$i$を除いた集合\n",
        "- $j$は都市$i$の直前に訪問する都市\n",
        "\n",
        "##### **ステップ3：全都市訪問後の計算**\n",
        "\n",
        "全ての都市を含む集合を$V = \\{0, 1, 2, ..., n-1\\}$とすると、都市0に戻る最短巡回路の長さは：\n",
        "\n",
        "$$\\text{TSP最適値} = \\min_{i \\in V, i \\neq 0} \\{dp(V, i) + d_{i0}\\}$$\n",
        "\n",
        "##### **ステップ4：経路の復元（オプション）**\n",
        "\n",
        "最適値だけでなく実際の経路も必要な場合、各状態で最小値を与える前の都市を記録：\n",
        "\n",
        "$$\\text{parent}[S][i] = \\arg\\min_{j \\in S, j \\neq i} \\{dp(S \\setminus \\{i\\}, j) + d_{ji}\\}$$\n",
        "\n",
        "#### ビットマスクによる実装\n",
        "\n",
        "実装では、集合$S$をビットマスクで表現することが一般的：\n",
        "\n",
        "- 集合$S$を整数$mask$で表現\n",
        "- 都市$i$が集合に含まれる ⟺ `mask & (1 << i) != 0`\n",
        "\n",
        "\n",
        "#### 計算量分析\n",
        "\n",
        "- **時間計算量**：$O(n^2 \\cdot 2^n)$\n",
        "  - 状態数：$O(n \\cdot 2^n)$（$2^n$個の部分集合 × $n$個の終点都市）\n",
        "  - 各状態の計算：$O(n)$（前の都市を探索）\n",
        "\n",
        "- **空間計算量**：$O(n \\cdot 2^n)$\n",
        "  - DPテーブルのサイズ\n",
        "\n",
        "\n"
      ],
      "metadata": {
        "id": "RUu0GO1P216V"
      }
    },
    {
      "cell_type": "markdown",
      "source": [
        "#### アルゴリズムの手順（コードとの対応）\n",
        "\n",
        "```python\n",
        "# ステップ1: 初期化\n",
        "dp = {}\n",
        "parent = {}  # 経路復元用\n",
        "dp[(1 << 0, 0)] = 0  # 都市0から開始\n",
        "\n",
        "# ステップ2: 時刻tごとに都市を追加（制約1を満たす）\n",
        "for t in range(1, n):\n",
        "    for mask in range(1 << n):\n",
        "        if bin(mask).count('1') != t + 1:\n",
        "            continue  # t+1個の都市を訪問\n",
        "        \n",
        "        # ステップ3: 最後に訪問する都市を選択\n",
        "        for last in cities_in_mask:\n",
        "            prev_mask = mask ^ (1 << last)  # lastを除いた集合\n",
        "            \n",
        "            # ステップ4: 前の都市から最小コストを計算\n",
        "            for prev in range(n):\n",
        "                if not (prev_mask & (1 << prev)):\n",
        "                    continue\n",
        "                if prev == last:\n",
        "                    continue\n",
        "                \n",
        "                if (prev_mask, prev) in dp:\n",
        "                    cost = dp[(prev_mask, prev)] + self.distance_matrix[prev][last]\n",
        "                    if cost < min_cost:\n",
        "                        min_cost = cost\n",
        "                        min_prev = prev\n",
        "            \n",
        "            if min_cost < float('inf'):\n",
        "                dp[(mask, last)] = min_cost\n",
        "                parent[(mask, last)] = min_prev\n",
        "\n",
        "# ステップ5: 全都市訪問後、開始都市に戻る（制約2を満たす）\n",
        "full_mask = (1 << n) - 1\n",
        "for i in range(1, n):\n",
        "    if (full_mask, i) in dp:\n",
        "        cost = dp[(full_mask, i)] + self.distance_matrix[i][0]\n",
        "\n",
        "# ステップ6: 経路復元\n",
        "path = []\n",
        "current = last_city\n",
        "mask = full_mask\n",
        "while (mask, current) in parent:\n",
        "    path.append(current)\n",
        "    next_city = parent[(mask, current)]\n",
        "    mask ^= (1 << current)  # ビット演算で都市を除外\n",
        "    current = next_city\n",
        "```\n",
        "\n",
        "#### ビットマスクの使用\n",
        "\n",
        "- 都市集合$S$をビットマスクで表現\n",
        "- 都市$i$が集合に含まれる ⇔ ビット$i$が1\n",
        "- 例：都市{0, 2, 3}の集合 = 1101 (2進数) = 13 (10進数)\n",
        "\n",
        "#### 制約条件の保証\n",
        "\n",
        "Held-Karpアルゴリズムは、TSPの制約条件を自動的に満たします：\n",
        "- 各時刻で1つの都市に滞在（時刻tごとにループ）\n",
        "- 各都市を1回ずつ訪問（ビットマスクで管理）\n"
      ],
      "metadata": {
        "id": "anWuouD-3Fll"
      }
    },
    {
      "cell_type": "markdown",
      "source": [
        "\n",
        "#### **参考文献**：\n",
        "- Held, M., & Karp, R. M. (1962). \"A dynamic programming approach to sequencing problems.\" Journal of SIAM, 10(1), 196-210.\n",
        "- Bellman, R. (1962). \"Dynamic programming treatment of the travelling salesman problem.\" Journal of the ACM, 9(1), 61-63.\n",
        "- Karp, R. M. (1982). \"Dynamic programming meets the principle of inclusion and exclusion.\" Operations Research Letters, 1(2), 49-51.\n",
        "- [Wikipedia - Held-Karp algorithm](https://en.wikipedia.org/wiki/Held%E2%80%93Karp_algorithm)\n",
        "- Cormen, T. H., et al. (2009). \"Introduction to algorithms\" (3rd ed.). MIT Press. Chapter 35."
      ],
      "metadata": {
        "id": "FUppKbVl3QJG"
      }
    },
    {
      "cell_type": "code",
      "execution_count": 12,
      "metadata": {
        "colab": {
          "base_uri": "https://localhost:8080/"
        },
        "id": "bpzmuYPvN56y",
        "outputId": "810ca0d0-9d1e-4c2c-8f9f-59f7ad6b1597"
      },
      "outputs": [
        {
          "output_type": "stream",
          "name": "stdout",
          "text": [
            "Result: TSPResult(algorithm=held_karp, distance=7.60000, feasible=True, computation_time=0.00006s)\n",
            "Solution visualization saved to tsp_benchmark_results/20250712/graphs/hk_solution.png\n"
          ]
        }
      ],
      "source": [
        "# Held-Karpアルゴリズム（厳密解）\n",
        "result_hk = tsp_dist.solve(algorithm=Algorithm.HELD_KARP)\n",
        "\n",
        "print(f\"Result: {result_hk}\")\n",
        "\n",
        "# 解の可視化\n",
        "tsp_dist.visualize_solution(result_hk, \"Held-Karp Solution\",\n",
        "                          save_path=\"hk_solution.png\",\n",
        "                          output_dir=graphs_dir)"
      ]
    },
    {
      "cell_type": "markdown",
      "metadata": {
        "id": "1Q5oizDTN56y"
      },
      "source": [
        "## 5. 解の評価指標 <a name=\"solution-evaluation\"></a>\n",
        "\n",
        "TSPの解を評価する際、複数の指標を用いて解の質を判断します。"
      ]
    },
    {
      "cell_type": "markdown",
      "source": [
        "### 5.1 基本的な評価指標\n",
        "\n",
        "#### 1. **総移動距離（Total Distance）**\n",
        "最も重要な指標。巡回路の総距離を表します。\n",
        "\n",
        "$\\text{Total Distance} = \\sum_{i=0}^{n-1} d_{path[i], path[(i+1) \\bmod n]}$\n",
        "\n",
        "#### 2. **実行可能性（Feasibility）**\n",
        "解が制約条件を満たしているかを判定：\n",
        "- 全ての都市を訪問しているか\n",
        "- 各都市を1回だけ訪問しているか\n",
        "- 開始都市に戻っているか\n",
        "\n",
        "```python\n",
        "def _check_feasibility(self, path: List[int]) -> bool:\n",
        "    # 長さチェック\n",
        "    if len(path) != self.n_cities:\n",
        "        return False\n",
        "    # 重複チェック\n",
        "    if len(set(path)) != self.n_cities:\n",
        "        return False\n",
        "    # 全都市訪問チェック\n",
        "    if set(path) != set(range(self.n_cities)):\n",
        "        return False\n",
        "    return True\n",
        "```\n",
        "\n",
        "#### 3. **最適性ギャップ（Optimality Gap）**\n",
        "厳密解との差を百分率で表現：\n",
        "\n",
        "$\\text{Optimality Gap} = \\frac{|\\text{Current Distance} - \\text{Optimal Distance}|}{\\text{Optimal Distance}} \\times 100\\%$\n",
        "\n",
        "#### 4. **計算時間（Computation Time）**\n",
        "アルゴリズムの効率性を評価する重要な指標。\n",
        "\n"
      ],
      "metadata": {
        "id": "jgkENYSk0rIf"
      }
    },
    {
      "cell_type": "markdown",
      "source": [
        "### 5.2 アルゴリズム固有の評価指標\n",
        "\n",
        "#### Simulated Annealing\n",
        "- **実行可能解の数**：num_reads回の試行のうち、制約を満たす解の数\n",
        "- **解の多様性**：異なる解がどの程度得られたか\n",
        "\n",
        "#### QAOA\n",
        "- **収束性**：コスト関数の最適化が収束したか\n",
        "- **最終コスト値**：古典最適化後の期待値\n",
        "- **測定分布**：量子状態の測定結果の分布\n",
        "\n",
        "#### Held-Karp\n",
        "- **状態数**：動的計画法で計算した状態の総数\n",
        "- **メモリ使用量**：$O(n \\cdot 2^n)$のメモリ要求\n"
      ],
      "metadata": {
        "id": "UKbaeBLP0zoT"
      }
    },
    {
      "cell_type": "markdown",
      "source": [
        "### 5.3 効率性指標\n",
        "\n",
        "#### 効率スコア（Efficiency Score）\n",
        "解の質と計算時間のトレードオフを評価：\n",
        "\n",
        "$\\text{Efficiency Score} = \\frac{\\text{Solution Quality}}{\\text{Computation Time}}$\n",
        "\n",
        "※ Solution Qualityは距離の逆数など、問題に応じて定義\n"
      ],
      "metadata": {
        "id": "nUuGdedi04JG"
      }
    },
    {
      "cell_type": "markdown",
      "source": [
        "### 5.4 評価指標の使用例"
      ],
      "metadata": {
        "id": "DsAV9JpF0-5x"
      }
    },
    {
      "cell_type": "code",
      "execution_count": 13,
      "metadata": {
        "colab": {
          "base_uri": "https://localhost:8080/"
        },
        "id": "U2LU7EfQN56z",
        "outputId": "ad52bd94-53eb-4f40-f2c7-51d0f13f323b"
      },
      "outputs": [
        {
          "output_type": "stream",
          "name": "stdout",
          "text": [
            "アルゴリズム: simulated_annealing\n",
            "総移動距離: 7.60000\n",
            "実行可能解: Yes\n",
            "計算時間: 0.06564秒\n",
            "時間制約: 満たす\n",
            "位置制約: 満たす\n",
            "実行可能解の割合: 100/100\n",
            "アルゴリズム: qaoa\n",
            "総移動距離: 7.60000\n",
            "実行可能解: Yes\n",
            "計算時間: 117.31767秒\n",
            "時間制約: 満たす\n",
            "位置制約: 満たす\n",
            "最適化成功: True\n",
            "反復回数: 87\n",
            "アルゴリズム: held_karp\n",
            "総移動距離: 7.60000\n",
            "実行可能解: Yes\n",
            "計算時間: 0.00006秒\n",
            "時間制約: 満たす\n",
            "位置制約: 満たす\n"
          ]
        }
      ],
      "source": [
        "# 評価指標の確認\n",
        "def evaluate_solution(tsp_instance, result):\n",
        "    print(f\"アルゴリズム: {result.algorithm}\")\n",
        "    print(f\"総移動距離: {result.distance:.5f}\")\n",
        "    print(f\"実行可能解: {'Yes' if result.feasible else 'No'}\")\n",
        "    print(f\"計算時間: {result.computation_time:.5f}秒\")\n",
        "\n",
        "    # 制約条件の詳細チェック\n",
        "    constraints = tsp_instance.evaluate_constraints(result.path)\n",
        "    print(f\"時間制約: {'満たす' if constraints['time_constraint'] else '違反'}\")\n",
        "    print(f\"位置制約: {'満たす' if constraints['location_constraint'] else '違反'}\")\n",
        "\n",
        "    # 最適性ギャップ（厳密解がある場合）\n",
        "    if 'optimality_gap' in result.evaluation_metrics:\n",
        "        gap = result.evaluation_metrics['optimality_gap']\n",
        "        if gap != float('inf'):\n",
        "            print(f\"最適性ギャップ: {gap:.2f}%\")\n",
        "\n",
        "    # アルゴリズム固有の情報\n",
        "    if result.algorithm == \"simulated_annealing\":\n",
        "        print(f\"実行可能解の割合: {result.additional_info.get('num_feasible_solutions', 0)}/{result.additional_info.get('num_reads', 0)}\")\n",
        "    elif result.algorithm == \"qaoa\":\n",
        "        print(f\"最適化成功: {result.additional_info.get('optimization_success', False)}\")\n",
        "        print(f\"反復回数: {result.additional_info.get('iterations', 0)}\")\n",
        "\n",
        "# 使用例\n",
        "evaluate_solution(tsp_dist, result_sa_detailed)\n",
        "evaluate_solution(tsp_dist, result_qaoa)\n",
        "evaluate_solution(tsp_dist, result_hk)"
      ]
    },
    {
      "cell_type": "markdown",
      "metadata": {
        "id": "5WYwkBDbN56z"
      },
      "source": [
        "### 5.5 解の良し悪しの判断基準\n",
        "\n",
        "解の評価は、以下の優先順位で行います：\n",
        "\n",
        "1. **実行可能性**：制約を満たさない解は無効\n",
        "2. **目的関数値**：総移動距離が小さいほど良い\n",
        "3. **最適性**：厳密解との差が小さいほど良い\n",
        "4. **計算効率**：同等の解質なら高速な方が良い\n",
        "5. **安定性**：複数回実行時の結果のばらつきが小さい\n",
        "\n",
        "**参考文献**：\n",
        "- Johnson, D. S., & McGeoch, L. A. (1997). \"The traveling salesman problem: A case study in local optimization.\" Local search in combinatorial optimization, 1(1), 215-310.\n",
        "- Reinelt, G. (1991). \"TSPLIB—A traveling salesman problem library.\" ORSA journal on computing, 3(4), 376-384."
      ]
    },
    {
      "cell_type": "markdown",
      "metadata": {
        "id": "3m4aRh4DN56z"
      },
      "source": [
        "## 6. ベンチマーク機能 <a name=\"benchmarking\"></a>\n",
        "\n"
      ]
    },
    {
      "cell_type": "markdown",
      "source": [
        "### 6.1 アルゴリズム比較"
      ],
      "metadata": {
        "id": "FvsxkYIw1jZ_"
      }
    },
    {
      "cell_type": "code",
      "execution_count": 15,
      "metadata": {
        "colab": {
          "base_uri": "https://localhost:8080/"
        },
        "id": "NauWDPP_N56z",
        "outputId": "148a0d29-73fb-4ae7-a167-3913bce9ae0f"
      },
      "outputs": [
        {
          "output_type": "stream",
          "name": "stdout",
          "text": [
            "\n",
            "================================================================================\n",
            "TSP ALGORITHM COMPARISON SUMMARY\n",
            "================================================================================\n",
            "Problem size: 3 cities\n",
            "Total algorithms tested: 4\n",
            "\n",
            "FEASIBILITY ANALYSIS:\n",
            "----------------------------------------\n",
            "SIMULATED_ANNEALING  ✓ Feasible      Time constraint: ✓  Location constraint: ✓\n",
            "SIMULATED_ANNEALING  ✓ Feasible      Time constraint: ✓  Location constraint: ✓\n",
            "QAOA                 ✓ Feasible      Time constraint: ✓  Location constraint: ✓\n",
            "HELD_KARP            ✓ Feasible      Time constraint: ✓  Location constraint: ✓\n",
            "\n",
            "FEASIBLE SOLUTIONS COMPARISON:\n",
            "----------------------------------------\n",
            "Algorithm            Distance        Time (s)        Gap to Optimal \n",
            "SIMULATED_ANNEALING  7.60000         0.06564         0.00%          \n",
            "QAOA                 7.60000         117.31767       0.00%          \n",
            "HELD_KARP            7.60000         0.00006         0.00%          \n",
            "SIMULATED_ANNEALING  7.60000         0.06613         0.00%          \n",
            "\n",
            "PERFORMANCE TRADE-OFF ANALYSIS:\n",
            "----------------------------------------\n",
            "Fastest algorithm: HELD_KARP (0.00006s)\n",
            "Best solution: SIMULATED_ANNEALING (distance: 7.60000)\n",
            "\n",
            "Efficiency Score (upper is better - distance/time):\n",
            "  SIMULATED_ANNEALING: 114.93\n",
            "  SIMULATED_ANNEALING: 115.79\n",
            "  QAOA: 0.06\n",
            "  HELD_KARP: 119388.43\n",
            "\n",
            "Most efficient: HELD_KARP\n",
            "\n",
            "================================================================================\n"
          ]
        }
      ],
      "source": [
        "# 比較サマリーの表示\n",
        "tsp_dist.display_comparison_summary()"
      ]
    },
    {
      "cell_type": "code",
      "execution_count": 14,
      "metadata": {
        "colab": {
          "base_uri": "https://localhost:8080/"
        },
        "id": "T1WQjoZ3N56z",
        "outputId": "9f298330-2ed5-4aa9-f6e1-ae039c84c97c"
      },
      "outputs": [
        {
          "output_type": "stream",
          "name": "stdout",
          "text": [
            "\n",
            "simulated_annealing already executed.\n",
            "\n",
            "qaoa already executed.\n",
            "\n",
            "held_karp already executed.\n",
            "             Algorithm  Distance  Computation Time (s)  Feasible  Valid Path  \\\n",
            "0  simulated_annealing       7.6              0.066127      True        True   \n",
            "1  simulated_annealing       7.6              0.065637      True        True   \n",
            "2                 qaoa       7.6            117.317671      True        True   \n",
            "3            held_karp       7.6              0.000064      True        True   \n",
            "\n",
            "  Optimality Gap (%) Gap to Optimal  \n",
            "0                N/A            N/A  \n",
            "1                N/A            N/A  \n",
            "2                N/A            N/A  \n",
            "3                N/A            N/A  \n"
          ]
        }
      ],
      "source": [
        "# 比較実行\n",
        "comparison_df = tsp_dist.compare_algorithms()\n",
        "print(comparison_df)"
      ]
    },
    {
      "cell_type": "code",
      "execution_count": 16,
      "metadata": {
        "colab": {
          "base_uri": "https://localhost:8080/"
        },
        "id": "zQXgMB15N56z",
        "outputId": "3a77e22b-7c7e-4d0d-c8be-8bd83ba65dad"
      },
      "outputs": [
        {
          "output_type": "stream",
          "name": "stdout",
          "text": [
            "Comparison chart saved to tsp_benchmark_results/20250712/graphs/algorithm_comparison.png\n"
          ]
        }
      ],
      "source": [
        "# 比較結果の可視化\n",
        "tsp_dist.plot_comparison(save_path=\"algorithm_comparison.png\",\n",
        "                       output_dir=graphs_dir)"
      ]
    },
    {
      "cell_type": "markdown",
      "metadata": {
        "id": "jk-NR7KFN56z"
      },
      "source": [
        "### 6.2 結果のエクスポート"
      ]
    },
    {
      "cell_type": "code",
      "execution_count": 18,
      "metadata": {
        "colab": {
          "base_uri": "https://localhost:8080/"
        },
        "id": "5R_tMWT0N56z",
        "outputId": "422dd442-69d2-402d-c4b0-3071ad6b4bcd"
      },
      "outputs": [
        {
          "output_type": "stream",
          "name": "stdout",
          "text": [
            "CSV file saved: tsp_benchmark_results/20250712/tables/tsp_benchmark_results.csv\n",
            "Excel file saved: tsp_benchmark_results/20250712/tables/tsp_benchmark_results.xlsx\n",
            "HTML file saved: tsp_benchmark_results/20250712/tables/tsp_benchmark_results.html\n",
            "JSON file saved: tsp_benchmark_results/20250712/tables/tsp_benchmark_results.json\n",
            "Output files: {'csv': 'tsp_benchmark_results/20250712/tables/tsp_benchmark_results.csv', 'excel': 'tsp_benchmark_results/20250712/tables/tsp_benchmark_results.xlsx', 'html': 'tsp_benchmark_results/20250712/tables/tsp_benchmark_results.html', 'json': 'tsp_benchmark_results/20250712/tables/tsp_benchmark_results.json'}\n",
            "Report saved to tsp_benchmark_results/20250712/reports/tsp_benchmark_report.txt\n"
          ]
        }
      ],
      "source": [
        "# 結果を複数形式でエクスポート\n",
        "output_files = tsp_dist.export_comparison_table(\n",
        "        output_format='all',\n",
        "        prefix='tsp_benchmark_results',\n",
        "        output_dir=tables_dir\n",
        "    )\n",
        "print(f\"Output files: {output_files}\")\n",
        "\n",
        "#結果をテキストレポートで出力\n",
        "tsp_dist.generate_report(save_path=\"tsp_benchmark_report.txt\",\n",
        "                       output_dir=reports_dir)"
      ]
    },
    {
      "cell_type": "markdown",
      "source": [
        "\n",
        "\n",
        "### 6.3 小規模のベンチマーク"
      ],
      "metadata": {
        "id": "tsFOCJt6rugb"
      }
    },
    {
      "cell_type": "code",
      "source": [
        "if __name__ == \"__main__\":\n",
        "    print(\"=== TSP Benchmark Library (Qiskit v2.0 Compatible) ===\\n\")\n",
        "\n",
        "    # Set output directory\n",
        "    output_base_dir = \"tsp_benchmark_results\"\n",
        "    timestamp = datetime.now().strftime('%Y%m%d')\n",
        "    output_dir = f\"{output_base_dir}/{timestamp}\"\n",
        "\n",
        "    print(f\"Output directory: {output_dir}\\n\")\n",
        "\n",
        "    # TSP problem using distance matrix only\n",
        "    print(\"TSP problem using distance matrix only (Qiskit v2.0 compatible)\")\n",
        "\n",
        "    # Small distance matrix for quick test\n",
        "    distance_matrix = np.array([\n",
        "    [0.0, 2.5, 3.2, 1.8],\n",
        "    [2.5, 0.0, 1.9, 3.7],\n",
        "    [3.2, 1.9, 0.0, 2.8],\n",
        "    [1.8, 3.7, 2.8, 0.0],\n",
        "    ])\n",
        "\n",
        "    '''\n",
        "    distance_matrix = np.array([\n",
        "        [0.0, 2.5, 3.2],\n",
        "        [2.5, 0.0, 1.9],\n",
        "        [3.2, 1.9, 0.0]\n",
        "    ])\n",
        "    distance_matrix = np.array([\n",
        "    [0.0, 2.5, 3.2, 1.8, 4.1],\n",
        "    [2.5, 0.0, 1.9, 3.7, 2.2],\n",
        "    [3.2, 1.9, 0.0, 2.8, 3.5],\n",
        "    [1.8, 3.7, 2.8, 0.0, 2.9],\n",
        "    [4.1, 2.2, 3.5, 2.9, 0.0]\n",
        "    ])\n",
        "    '''\n",
        "\n",
        "    print(f\"Distance matrix shape: {distance_matrix.shape}\")\n",
        "    print(\"Distance matrix:\")\n",
        "    print(distance_matrix)\n",
        "\n",
        "    # Create TSP instance\n",
        "    tsp = TSPBenchmark(distance_matrix=distance_matrix)\n",
        "\n",
        "    # Check estimated coordinates\n",
        "    if tsp.coordinates:\n",
        "        print(\"\\nEstimated coordinates:\")\n",
        "        for i, (x, y) in enumerate(tsp.coordinates):\n",
        "            print(f\"City {i}: ({x:.5f}, {y:.5f})\")\n",
        "\n",
        "    # Visualize city layout (save to graphs directory)\n",
        "    tsp.visualize_cities(\"TSP Cities Layout (Qiskit v2.0)\",\n",
        "                        save_path=\"cities_layout.png\",\n",
        "                        output_dir=f\"{output_dir}/graphs\")\n",
        "\n",
        "    # Execute algorithms\n",
        "    print(\"\\n=== Algorithm Execution (Qiskit v2.0 compatible) ===\")\n",
        "\n",
        "    # 1. Held-Karp algorithm (exact solution)\n",
        "    print(\"\\n1. Held-Karp algorithm (exact solution)\")\n",
        "    result_hk = tsp.solve(algorithm=Algorithm.HELD_KARP)\n",
        "    print(f\"Result: {result_hk}\")\n",
        "\n",
        "    # 2. Simulated Annealing\n",
        "    print(\"\\n2. Simulated Annealing\")\n",
        "    result_sa = tsp.solve(\n",
        "        algorithm=Algorithm.SIMULATED_ANNEALING,\n",
        "        num_reads=100,\n",
        "        uniform_penalty_weight=100.0\n",
        "    )\n",
        "    print(f\"Result: {result_sa}\")\n",
        "\n",
        "    # 3. QAOA execution\n",
        "    print(\"\\n3. QAOA  - Qiskit v2.0 compatible\")\n",
        "    result_qaoa = tsp.solve(\n",
        "        algorithm=Algorithm.QAOA,\n",
        "        p=3,\n",
        "        optimizer='COBYLA',\n",
        "        maxiter=500,\n",
        "        uniform_penalty_weight=100.0,\n",
        "        shots=4096,\n",
        "        backend_type='auto',\n",
        "        use_gpu=True\n",
        "    )\n",
        "    print(f\"Result: {result_qaoa}\")\n",
        "\n",
        "    # Visualize results (save to graphs directory)\n",
        "    print(\"\\n=== Result Visualization (Qiskit v2.0 compatible) ===\")\n",
        "    graphs_dir = f\"{output_dir}/graphs\"\n",
        "\n",
        "    tsp.visualize_solution(result_hk, \"Held-Karp Solution (v2.0)\",\n",
        "                          save_path=\"hk_solution.png\",\n",
        "                          output_dir=graphs_dir)\n",
        "    tsp.visualize_solution(result_sa, \"SA Solution (v2.0)\",\n",
        "                          save_path=\"sa_solution.png\",\n",
        "                          output_dir=graphs_dir)\n",
        "    tsp.visualize_solution(result_qaoa, \"QAOA Solution (v2.0)\",\n",
        "                          save_path=\"qaoa_solution.png\",\n",
        "                          output_dir=graphs_dir)\n",
        "\n",
        "    # Display algorithm comparison summary\n",
        "    print(\"\\n=== Algorithm Comparison Summary ===\")\n",
        "    tsp.display_comparison_summary()\n",
        "\n",
        "    # Export comparison results to files (save to tables directory)\n",
        "    print(\"\\n=== Export Comparison Results ===\")\n",
        "    tables_dir = f\"{output_dir}/tables\"\n",
        "    output_files = tsp.export_comparison_table(\n",
        "        output_format='all',\n",
        "        prefix='tsp_benchmark_results',\n",
        "        output_dir=tables_dir\n",
        "    )\n",
        "    print(f\"Output files: {output_files}\")\n",
        "\n",
        "    # Algorithm comparison\n",
        "    print(\"\\n=== Algorithm Comparison (Qiskit v2.0 compatible) ===\")\n",
        "    comparison_df = tsp.compare_algorithms()\n",
        "    print(comparison_df.to_string())\n",
        "\n",
        "    # Generate comparison chart (save to graphs directory)\n",
        "    tsp.plot_comparison(save_path=\"algorithm_comparison.png\",\n",
        "                       output_dir=graphs_dir)\n",
        "\n",
        "    # QAOA convergence chart (save to graphs directory)\n",
        "    tsp.plot_qaoa_convergence(result_qaoa,\n",
        "                             save_path=\"qaoa_convergence.png\",\n",
        "                             output_dir=graphs_dir)\n",
        "\n",
        "    # Generate report (save to reports directory)\n",
        "    reports_dir = f\"{output_dir}/reports\"\n",
        "    tsp.generate_report(save_path=\"tsp_benchmark_report.txt\",\n",
        "                       output_dir=reports_dir)\n",
        "\n",
        "    print(\"\\n=== Qiskit v2.0 Compatible Benchmark Complete ===\")"
      ],
      "metadata": {
        "id": "_Q8swAXxr6RG",
        "colab": {
          "base_uri": "https://localhost:8080/"
        },
        "outputId": "d6dbc2a5-0cf9-45cf-ea86-becf590180d9"
      },
      "execution_count": 19,
      "outputs": [
        {
          "output_type": "stream",
          "name": "stdout",
          "text": [
            "=== TSP Benchmark Library (Qiskit v2.0 Compatible) ===\n",
            "\n",
            "Output directory: tsp_benchmark_results/20250712\n",
            "\n",
            "TSP problem using distance matrix only (Qiskit v2.0 compatible)\n",
            "Distance matrix shape: (4, 4)\n",
            "Distance matrix:\n",
            "[[0.  2.5 3.2 1.8]\n",
            " [2.5 0.  1.9 3.7]\n",
            " [3.2 1.9 0.  2.8]\n",
            " [1.8 3.7 2.8 0. ]]\n",
            "Coordinates estimated from distance matrix using MDS (stress: 0.05440)\n",
            "\n",
            "Estimated coordinates:\n",
            "City 0: (0.22499, 1.44623)\n",
            "City 1: (1.56668, -0.77321)\n",
            "City 2: (-0.22019, -1.61419)\n",
            "City 3: (-1.57148, 0.94117)\n",
            "Cities visualization saved to tsp_benchmark_results/20250712/graphs/cities_layout.png\n",
            "\n",
            "=== Algorithm Execution (Qiskit v2.0 compatible) ===\n",
            "\n",
            "1. Held-Karp algorithm (exact solution)\n",
            "Result: TSPResult(algorithm=held_karp, distance=9.00000, feasible=True, computation_time=0.00011s)\n",
            "\n",
            "2. Simulated Annealing\n",
            "Result: TSPResult(algorithm=simulated_annealing, distance=9.00000, feasible=True, computation_time=0.12014s)\n",
            "\n",
            "3. QAOA  - Qiskit v2.0 compatible\n",
            "  Max coefficient: 204.15000\n",
            "  Scaling Hamiltonian: 0.04898\n",
            "  Auto Selection: GPU Use (method=statevector)\n",
            "  Avable Device: ('CPU', 'GPU')\n",
            "  Selected Backend: {'method': 'statevector', 'device': 'GPU'}\n",
            "  Qubit Property Backend <bound method BackendV2.qubit_properties of AerSimulator('aer_simulator_statevector_gpu')>\n",
            "  Number of qubits: 16, QAOA layers: 3\n",
            "  Backend: AerSimulator('aer_simulator_statevector_gpu')\n",
            "  Circuit parameters: 6\n",
            "  Initial parameters: β=[2.35619449 1.57079633 0.78539816], γ=[0.52359878 1.04719755 1.57079633]\n",
            "  Iteration 10: cost = 2523.3735\n",
            "  Iteration 20: cost = 2439.6659\n",
            "  Iteration 30: cost = 2517.3136\n",
            "  Iteration 40: cost = 2463.6865\n",
            "  Iteration 50: cost = 2456.7070\n",
            "  Iteration 60: cost = 2454.5472\n",
            "  Iteration 70: cost = 2478.4740\n",
            "QAOA optimization completed in 75 iterations\n",
            "Final cost: 2438.5888\n",
            "Optimization success: True\n",
            "  Best cost: 2397.3121\n",
            "  Successfully created bound circuits with optimal parameters\n",
            "  No feasible solution found. Using most frequent solution.\n",
            "Result: TSPResult(algorithm=qaoa, distance=inf, feasible=False, computation_time=345.84598s)\n",
            "\n",
            "=== Result Visualization (Qiskit v2.0 compatible) ===\n",
            "Solution visualization saved to tsp_benchmark_results/20250712/graphs/hk_solution.png\n",
            "Solution visualization saved to tsp_benchmark_results/20250712/graphs/sa_solution.png\n",
            "Solution visualization saved to tsp_benchmark_results/20250712/graphs/qaoa_solution.png\n",
            "\n",
            "=== Algorithm Comparison Summary ===\n",
            "\n",
            "================================================================================\n",
            "TSP ALGORITHM COMPARISON SUMMARY\n",
            "================================================================================\n",
            "Problem size: 4 cities\n",
            "Total algorithms tested: 3\n",
            "\n",
            "FEASIBILITY ANALYSIS:\n",
            "----------------------------------------\n",
            "HELD_KARP            ✓ Feasible      Time constraint: ✓  Location constraint: ✓\n",
            "SIMULATED_ANNEALING  ✓ Feasible      Time constraint: ✓  Location constraint: ✓\n",
            "QAOA                 ✗ Infeasible    Time constraint: ✗  Location constraint: ✗\n",
            "\n",
            "FEASIBLE SOLUTIONS COMPARISON:\n",
            "----------------------------------------\n",
            "Algorithm            Distance        Time (s)        Gap to Optimal \n",
            "SIMULATED_ANNEALING  9.00000         0.12014         0.00%          \n",
            "HELD_KARP            9.00000         0.00011         0.00%          \n",
            "\n",
            "PERFORMANCE TRADE-OFF ANALYSIS:\n",
            "----------------------------------------\n",
            "Fastest algorithm: HELD_KARP (0.00011s)\n",
            "Best solution: SIMULATED_ANNEALING (distance: 9.00000)\n",
            "\n",
            "Efficiency Score (upper is better - distance/time):\n",
            "  HELD_KARP: 84260.57\n",
            "  SIMULATED_ANNEALING: 74.91\n",
            "\n",
            "Most efficient: HELD_KARP\n",
            "\n",
            "================================================================================\n",
            "\n",
            "=== Export Comparison Results ===\n",
            "CSV file saved: tsp_benchmark_results/20250712/tables/tsp_benchmark_results.csv\n",
            "Excel file saved: tsp_benchmark_results/20250712/tables/tsp_benchmark_results.xlsx\n",
            "HTML file saved: tsp_benchmark_results/20250712/tables/tsp_benchmark_results.html\n",
            "JSON file saved: tsp_benchmark_results/20250712/tables/tsp_benchmark_results.json\n",
            "Output files: {'csv': 'tsp_benchmark_results/20250712/tables/tsp_benchmark_results.csv', 'excel': 'tsp_benchmark_results/20250712/tables/tsp_benchmark_results.xlsx', 'html': 'tsp_benchmark_results/20250712/tables/tsp_benchmark_results.html', 'json': 'tsp_benchmark_results/20250712/tables/tsp_benchmark_results.json'}\n",
            "\n",
            "=== Algorithm Comparison (Qiskit v2.0 compatible) ===\n",
            "\n",
            "simulated_annealing already executed.\n",
            "\n",
            "qaoa already executed.\n",
            "\n",
            "held_karp already executed.\n",
            "             Algorithm  Distance  Computation Time (s)  Feasible  Valid Path Optimality Gap (%) Gap to Optimal\n",
            "0            held_karp       9.0              0.000107      True        True                N/A            N/A\n",
            "1  simulated_annealing       9.0              0.120144      True        True                0.0            0.0\n",
            "2                 qaoa       inf            345.845982     False       False                N/A            N/A\n",
            "Comparison chart saved to tsp_benchmark_results/20250712/graphs/algorithm_comparison.png\n",
            "QAOA convergence chart saved to tsp_benchmark_results/20250712/graphs/qaoa_convergence.png\n",
            "Report saved to tsp_benchmark_results/20250712/reports/tsp_benchmark_report.txt\n",
            "\n",
            "=== Qiskit v2.0 Compatible Benchmark Complete ===\n"
          ]
        }
      ]
    },
    {
      "cell_type": "markdown",
      "metadata": {
        "id": "wrB6_UiBN56z"
      },
      "source": [
        "### 6.4 大規模問題での比較例"
      ]
    },
    {
      "cell_type": "code",
      "execution_count": null,
      "metadata": {
        "id": "tm5bbJ2_N560"
      },
      "outputs": [],
      "source": [
        "# より大きな問題での比較\n",
        "n_cities = 16\n",
        "np.random.seed(42)\n",
        "large_coords = [(np.random.rand(), np.random.rand()) for _ in range(n_cities)]\n",
        "\n",
        "tsp_large = TSPBenchmark(coordinates=large_coords)\n",
        "\n",
        "# 各アルゴリズムのスケーラビリティ確認\n",
        "print(f\"都市数: {n_cities}\")\n",
        "print(\"距離行列:\")\n",
        "print(tsp_large.distance_matrix)\n",
        "print(\"\\n各アルゴリズムの実行...\")\n",
        "\n",
        "# Simulated Annealing\n",
        "result_sa_large = tsp_large.solve(\n",
        "    algorithm=Algorithm.SIMULATED_ANNEALING,\n",
        "    num_reads=200\n",
        ")\n",
        "print(f\"\\nSA - 距離: {result_sa_large.distance:.5f}, 時間: {result_sa_large.computation_time:.5f}s\")\n",
        "\n",
        "\n",
        "\n",
        "# Held-Karp（厳密解）\n",
        "result_hk_large = tsp_large.solve(algorithm=Algorithm.HELD_KARP)\n",
        "print(f\"HK - 距離: {result_hk_large.distance:.5f}, 時間: {result_hk_large.computation_time:.5f}s\")\n",
        "\n",
        "# QAOA（量子ビット数に注意）\n",
        "\n",
        "if n_cities <= 5:  # 量子ビット数 = n_cities^2\n",
        "  result_qaoa_large = tsp_large.solve(\n",
        "      algorithm=Algorithm.QAOA,\n",
        "      p=3,  # 層数\n",
        "      maxiter=200,\n",
        "      uniform_penalty_weight=100.0,\n",
        "      shots=4096,\n",
        "      backend_type='auto',\n",
        "      use_gpu=True\n",
        "  )\n",
        "  print(f\"QAOA - 距離: {result_qaoa_large.distance:.5f}, 時間: {result_qaoa_large.computation_time:.5f}s\")\n",
        "\n"
      ]
    },
    {
      "cell_type": "markdown",
      "metadata": {
        "id": "GpHCfGPSN560"
      },
      "source": [
        "## 6. まとめ <a name=\"conclusion\"></a>\n",
        "\n",
        "### 各アルゴリズムの特徴\n",
        "\n",
        "| アルゴリズム | 解の質 | 計算時間 | スケーラビリティ | 適用場面 |\n",
        "|------------|--------|----------|----------------|----------|\n",
        "| **Simulated Annealing** | 良好 | 中程度 | 高い | 中〜大規模問題 |\n",
        "| **QAOA** | 中程度 | 長い | 低い（量子ビット数制限） | 小規模問題、量子優位性の研究 |\n",
        "| **Held-Karp** | 最適 | 指数的 | 非常に低い | 小規模問題（n≤20） |\n",
        "\n",
        "### 使用上の推奨事項\n",
        "\n",
        "1. **問題サイズによる選択**：\n",
        "   - n ≤ 15：Held-Karpで厳密解を求める\n",
        "   - 15 < n ≤ 100：Simulated Annealingが実用的\n",
        "   - QAOAは研究・教育目的に適している\n",
        "\n",
        "2. **パラメータチューニング**：\n",
        "   - SAのnum_reads：問題サイズに応じて100〜1000\n",
        "   - QAOAのp：1〜3（ノイズと計算時間を考慮）\n",
        "   - ペナルティ重み：目的関数値の10〜100倍\n",
        "\n",
        "3. **結果の評価**：\n",
        "   - 実行可能性（feasibility）を必ず確認\n",
        "   - 複数回実行して安定性を確認\n",
        "   - 可能であれば厳密解との比較\n",
        "\n",
        "### 今後の発展\n",
        "\n",
        "- 量子デバイスの改善により、QAOAの適用範囲が拡大\n",
        "- ハイブリッドアルゴリズムの開発\n",
        "- 問題特有の構造を利用した高速化"
      ]
    },
    {
      "cell_type": "markdown",
      "metadata": {
        "id": "fTKnPIWTN560"
      },
      "source": [
        "## 7. 参考文献 <a name=\"references\"></a>\n",
        "\n",
        "### 巡回セールスマン問題\n",
        "- Applegate, D. L., et al. (2006). \"The traveling salesman problem: a computational study.\" Princeton University Press.\n",
        "- Gutin, G., & Punnen, A. P. (Eds.). (2007). \"The traveling salesman problem and its variations.\" Springer.\n",
        "\n",
        "### Simulated Annealing\n",
        "- Kirkpatrick, S., Gelatt, C. D., & Vecchi, M. P. (1983). \"Optimization by simulated annealing.\" Science, 220(4598), 671-680.\n",
        "- Černý, V. (1985). \"Thermodynamical approach to the traveling salesman problem.\" Journal of optimization theory and applications, 45(1), 41-51.\n",
        "\n",
        "### QAOA\n",
        "- Farhi, E., Goldstone, J., & Gutmann, S. (2014). \"A quantum approximate optimization algorithm.\" arXiv preprint arXiv:1411.4028.\n",
        "- Zhou, L., Wang, S. T., Choi, S., Pichler, H., & Lukin, M. D. (2020). \"Quantum approximate optimization algorithm: Performance, mechanism, and implementation on near-term devices.\" Physical Review X, 10(2), 021067.\n",
        "\n",
        "### 動的計画法\n",
        "- Held, M., & Karp, R. M. (1962). \"A dynamic programming approach to sequencing problems.\" Journal of the Society for Industrial and Applied Mathematics, 10(1), 196-210.\n",
        "- Bellman, R. (1962). \"Dynamic programming treatment of the travelling salesman problem.\" Journal of the ACM, 9(1), 61-63.\n",
        "\n",
        "### 実装ライブラリ\n",
        "- [OMMX (Open Mathematical Modeling eXchange)](https://github.com/Jij-Inc/ommx)\n",
        "- [OpenJij](https://github.com/OpenJij/OpenJij)\n",
        "- [Qiskit](https://qiskit.org/)\n",
        "- [IBM Quantum Learning](https://learning.quantum.ibm.com/)\n",
        "\n",
        "### チュートリアル・ドキュメント\n",
        "- [OMMX AdapterでQUBOからサンプリングする](https://openjij.github.io/OpenJij-Documentation/docs/tutorial/ommx/ommx_openjij_sample.html)\n",
        "- [JijModeling+OMMX Adapterを用いた数理モデルの構築](https://openjij.github.io/OpenJij-Documentation/docs/tutorial/jijmodeling/tsp.html)\n",
        "- [Quantum Approximate Optimization Algorithm - IBM](https://learning.quantum.ibm.com/tutorial/quantum-approximate-optimization-algorithm)"
      ]
    },
    {
      "cell_type": "code",
      "source": [],
      "metadata": {
        "id": "NWOSu-Xs1v2s"
      },
      "execution_count": null,
      "outputs": []
    }
  ],
  "metadata": {
    "accelerator": "GPU",
    "colab": {
      "gpuType": "T4",
      "provenance": [],
      "toc_visible": true
    },
    "kernelspec": {
      "display_name": "Python 3",
      "name": "python3"
    },
    "language_info": {
      "codemirror_mode": {
        "name": "ipython",
        "version": 3
      },
      "file_extension": ".py",
      "mimetype": "text/x-python",
      "name": "python",
      "nbconvert_exporter": "python",
      "pygments_lexer": "ipython3",
      "version": "3.8.0"
    }
  },
  "nbformat": 4,
  "nbformat_minor": 0
}